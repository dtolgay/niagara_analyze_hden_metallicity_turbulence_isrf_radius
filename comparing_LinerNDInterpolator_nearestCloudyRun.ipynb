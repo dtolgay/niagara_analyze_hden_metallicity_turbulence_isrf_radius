{
 "cells": [
  {
   "cell_type": "code",
   "execution_count": 2,
   "id": "1749084d",
   "metadata": {},
   "outputs": [],
   "source": [
    "import pandas as pd \n",
    "import numpy as np \n",
    "\n",
    "import matplotlib.pyplot as plt \n"
   ]
  },
  {
   "cell_type": "code",
   "execution_count": 3,
   "id": "58fa91c1",
   "metadata": {},
   "outputs": [],
   "source": [
    "base_dir = \"/home/m/murray/dtolgay/scratch/post_processing_fire_outputs/skirt/runs_hden_radius\"\n",
    "galaxy_type = \"firebox\"\n",
    "redshift = \"0.0\"\n",
    "galaxy_name = \"gal10\""
   ]
  },
  {
   "cell_type": "code",
   "execution_count": 11,
   "id": "3cd5f678",
   "metadata": {},
   "outputs": [
    {
     "name": "stdout",
     "output_type": "stream",
     "text": [
      "Reading nearestCloudyRun\n",
      "Reading linearNDInterpolator\n"
     ]
    }
   ],
   "source": [
    "fdir = f\"{base_dir}/{galaxy_type}/z{redshift}/{galaxy_name}/voronoi_1e6\"\n",
    "\n",
    "# Read gas particles\n",
    "\n",
    "lines = [\n",
    "\"L_ly_alpha\",  # [erg s^-1]\n",
    "\"L_h_alpha\", # [erg s^-1]\n",
    "\"L_h_beta\", # [erg s^-1]\n",
    "\"L_co_10\", # [K km s^-1 pc^2] \n",
    "\"L_co_21\", # [K km s^-1 pc^2] \n",
    "\"L_co_32\", # [K km s^-1 pc^2] \n",
    "\"L_co_43\", # [K km s^-1 pc^2] \n",
    "\"L_co_54\", # [K km s^-1 pc^2] \n",
    "\"L_co_65\", # [K km s^-1 pc^2] \n",
    "\"L_co_76\", # [K km s^-1 pc^2] \n",
    "\"L_co_87\", # [K km s^-1 pc^2] \n",
    "\"L_13co\",  # [K km s^-1 pc^2] \n",
    "\"L_c2\", # [erg s^-1]\n",
    "\"L_o3_88\", # [erg s^-1]\n",
    "\"L_o3_5006\", # [erg s^-1]\n",
    "\"L_o3_4958\", # [erg s^-1] \n",
    "]\n",
    "\n",
    "gas_column_names = [\n",
    "\"x\",\n",
    "\"y\",\n",
    "\"z\",\n",
    "\"smoothing length\",\n",
    "\"mass\",\n",
    "\"metallicity\",\n",
    "\"temperature\",\n",
    "\"vx\",\n",
    "\"vy\",\n",
    "\"vz\",\n",
    "\"hydrogen density\",\n",
    "\"radius\",\n",
    "\"sfr\",\n",
    "\"turbulence\",\n",
    "\"density\",\n",
    "\"mu_theoretical\",\n",
    "\"average_sobolev_smoothingLength\",\n",
    "\"index\",\n",
    "\"isrf\",   \n",
    "] + lines\n",
    "\n",
    "\n",
    "\n",
    "print(\"Reading nearestCloudyRun\")\n",
    "nearestCloudyRun = pd.DataFrame(\n",
    "    np.loadtxt(fname=f\"{fdir}/L_line_averageSobolevH_nearestCloudyRun_intensity2Luminosity.txt\"),\n",
    "    columns=gas_column_names\n",
    ")\n",
    "\n",
    "\n",
    "print(\"Reading linearNDInterpolator\")\n",
    "linearNDInterpolator = pd.DataFrame(\n",
    "    np.loadtxt(fname=f\"{fdir}/L_line_averageSobolevH_linearNDInterpolator_intensity2Luminosity_delete.txt\"),\n",
    "    columns=gas_column_names\n",
    ")\n",
    "\n",
    "\n"
   ]
  },
  {
   "cell_type": "code",
   "execution_count": 17,
   "id": "8edb93ae",
   "metadata": {},
   "outputs": [
    {
     "name": "stdout",
     "output_type": "stream",
     "text": [
      "0.14429405598097106 1.935371440515414\n"
     ]
    }
   ],
   "source": [
    "print(np.sum(linearNDInterpolator['L_co_10'])/1e9, sum(nearestCloudyRun['L_co_10'])/1e9)"
   ]
  },
  {
   "cell_type": "code",
   "execution_count": 30,
   "id": "cb2aac84",
   "metadata": {},
   "outputs": [
    {
     "name": "stdout",
     "output_type": "stream",
     "text": [
      "0.1442940559809674 0.6321065266194792\n"
     ]
    }
   ],
   "source": [
    "# Check where are the NaN values for the Lco calculation \n",
    "indices = ~np.isnan(linearNDInterpolator['L_co_10'])\n",
    "# linearNDInterpolator[indices]['index']\n",
    "\n",
    "print(sum(linearNDInterpolator.loc[indices, 'L_co_10'])/1e9, sum(nearestCloudyRun.loc[indices, 'L_co_10'])/1e9)"
   ]
  },
  {
   "cell_type": "code",
   "execution_count": 28,
   "id": "f73441c5",
   "metadata": {},
   "outputs": [],
   "source": [
    "interpolated_intensities = [1, 2, 5]\n",
    "\n",
    "if np.isnan(interpolated_intensities).any():\n",
    "    print(True)"
   ]
  }
 ],
 "metadata": {
  "kernelspec": {
   "display_name": "Python 3",
   "language": "python",
   "name": "python3"
  },
  "language_info": {
   "codemirror_mode": {
    "name": "ipython",
    "version": 3
   },
   "file_extension": ".py",
   "mimetype": "text/x-python",
   "name": "python",
   "nbconvert_exporter": "python",
   "pygments_lexer": "ipython3",
   "version": "3.6.8"
  }
 },
 "nbformat": 4,
 "nbformat_minor": 5
}
