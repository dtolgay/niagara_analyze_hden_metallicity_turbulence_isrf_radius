{
 "cells": [
  {
   "cell_type": "code",
   "execution_count": 1,
   "metadata": {},
   "outputs": [],
   "source": [
    "import sys \n",
    "sys.path.append(\"/scratch/m/murray/dtolgay/\")\n",
    "from tools import constants\n",
    "\n",
    "import numpy as np \n",
    "import pandas as pd \n",
    "\n",
    "import matplotlib.pyplot as plt"
   ]
  },
  {
   "cell_type": "code",
   "execution_count": 2,
   "metadata": {},
   "outputs": [],
   "source": [
    "# def read_interpolated_Lline(base_dir, galaxy_name, galaxy_type, redshift, directory_name, file_name):\n",
    "     \n",
    "#     lines = [\n",
    "#         \"L_ly_alpha\",  # [erg s^-1]\n",
    "#         \"L_h_alpha\", # [erg s^-1]\n",
    "#         \"L_h_beta\", # [erg s^-1]\n",
    "#         \"L_co_10\", # [K km s^-1 pc^2] \n",
    "#         \"L_co_21\", # [K km s^-1 pc^2] \n",
    "#         \"L_co_32\", # [K km s^-1 pc^2] \n",
    "#         \"L_co_43\", # [K km s^-1 pc^2] \n",
    "#         \"L_co_54\", # [K km s^-1 pc^2] \n",
    "#         \"L_co_65\", # [K km s^-1 pc^2] \n",
    "#         \"L_co_76\", # [K km s^-1 pc^2] \n",
    "#         \"L_co_87\", # [K km s^-1 pc^2] \n",
    "#         \"L_13co\",  # [K km s^-1 pc^2] \n",
    "#         \"L_c2\", # [erg s^-1]\n",
    "#         \"L_o3_88\", # [erg s^-1]\n",
    "#         \"L_o3_5006\", # [erg s^-1]\n",
    "#         \"L_o3_4958\", # [erg s^-1] \n",
    "#     ]\n",
    "\n",
    "#     gas_column_names = [\n",
    "#         \"x\",                                    # pc \n",
    "#         \"y\",                                    # pc \n",
    "#         \"z\",                                    # pc \n",
    "#         \"smoothing_length\",                     # pc \n",
    "#         \"mass\",                                 # Msolar\n",
    "#         \"metallicity\",                          # Zsolar\n",
    "#         \"temperature\",                          # Kelvin\n",
    "#         \"vx\",                                   # km/s\n",
    "#         \"vy\",                                   # km/s\n",
    "#         \"vz\",                                   # km/s\n",
    "#         \"hden\",                                 # 1/cm3\n",
    "#         \"radius\",                               # pc \n",
    "#         \"sfr\",                                  # Msolar / year\n",
    "#         \"turbulence\",                           # km/s\n",
    "#         \"density\",                              # gr/cm3\n",
    "#         \"mu_theoretical\",                       # 1\n",
    "#         \"average_sobolev_smoothingLength\",      # pc \n",
    "#         \"index\",                                # 1\n",
    "#         \"isrf\",                                 # G0\n",
    "#     ] + lines\n",
    "\n",
    "\n",
    "#     fdir = f'{base_dir}/{galaxy_type}/z{redshift}/{galaxy_name}/{directory_name}/{file_name}'\n",
    "\n",
    "#     gas = pd.DataFrame(\n",
    "#         np.loadtxt(fname=fdir), \n",
    "#         columns=gas_column_names\n",
    "#     )\n",
    "\n",
    "#     return gas\n",
    "\n",
    "\n",
    "def read_otherProperties(\n",
    "        galaxy_name, \n",
    "        galaxy_type, \n",
    "        redshift, \n",
    "        directory_name, \n",
    "        file_name,\n",
    "        base_fdir = f\"/mnt/raid-cita/dtolgay/FIRE/post_processing_fire_outputs/skirt/runs_hden_radius\"\n",
    "    ):\n",
    "    \n",
    "    column_names = [\n",
    "        'x',                # (pc)\n",
    "        'y',                # (pc)\n",
    "        'z',                # (pc)\n",
    "        'smoothing_length', # (pc)\n",
    "        'mass',             # (Msolar)\n",
    "        'metallicity',      # (Zsolar)\n",
    "        'temperature',      # (K)\n",
    "        'vx',               # (km/s)\n",
    "        'vy',               # (km/s)\n",
    "        'vz',               # (km/s)\n",
    "        'hden',             # (cm^-3)\n",
    "        'radius',           # (pc)\n",
    "        'sfr',              # (Msolar/yr)\n",
    "        'turbulence',       # (km/s)\n",
    "        'density',          # (gr/cm^-3)\n",
    "        'mu_theoretical',   # (1)\n",
    "        'average_sobolev_smoothingLength',  # (pc)\n",
    "        'index',            # [1]\n",
    "        'isrf',             # [G0]\n",
    "        'fh2',              # [1] \n",
    "        'fCO',              # [1]\n",
    "    ]\n",
    "\n",
    "    ####\n",
    "    data = pd.DataFrame(\n",
    "        np.loadtxt(f'{base_fdir}/{galaxy_type}/z{redshift}/{galaxy_name}/{directory_name}/{file_name}'),\n",
    "        columns = column_names    \n",
    "    )\n",
    "\n",
    "    volume = data['mass'] / (data['density'] * constants.gr2Msolar) # cm^3\n",
    "    h_mass = data['hden'] * volume * constants.proton_mass * constants.kg2Msolar # Msolar\n",
    "    \n",
    "    data['h2_mass'] = data['fh2'] * h_mass    # Msolar\n",
    "    data['co_mass'] = data['fCO'] * h_mass    # Msolar\n",
    "    \n",
    "    \n",
    "    return data"
   ]
  },
  {
   "cell_type": "code",
   "execution_count": 4,
   "metadata": {},
   "outputs": [
    {
     "name": "stdout",
     "output_type": "stream",
     "text": [
      "nearestND read\n",
      "hybridND read\n",
      "CPU times: user 4.54 s, sys: 242 ms, total: 4.78 s\n",
      "Wall time: 4.82 s\n"
     ]
    }
   ],
   "source": [
    "%%time\n",
    "base_dir = \"/home/m/murray/dtolgay/scratch/post_processing_fire_outputs/skirt/runs_hden_radius\"\n",
    "\n",
    "directory_name = \"voronoi_1e6\"\n",
    "redshift = \"0.0\"\n",
    "\n",
    "galaxy_name = \"gal22\"\n",
    "galaxy_type = \"firebox\"\n",
    "# galaxy_name = \"m12i_res7100_md\"\n",
    "# galaxy_type = \"zoom_in\"\n",
    "\n",
    "# nearestND = read_interpolated_Lline(\n",
    "#     base_dir,\n",
    "#     galaxy_name, \n",
    "#     galaxy_type, \n",
    "#     redshift, \n",
    "#     directory_name, \n",
    "#     file_name = \"L_line_averageSobolevH_nearestNDInterpolator_flux2Luminosity.txt\"\n",
    "# )\n",
    "\n",
    "nearestND = read_otherProperties(\n",
    "    galaxy_name, \n",
    "    galaxy_type, \n",
    "    redshift, \n",
    "    directory_name, \n",
    "    file_name = \"otherProperties_averageSobolevH_nearestNDInterpolator.txt\",\n",
    "    base_fdir = base_dir    \n",
    ")\n",
    "print(\"nearestND read\")\n",
    "\n",
    "# hybridND = read_interpolated_Lline(\n",
    "#     base_dir,\n",
    "#     galaxy_name, \n",
    "#     galaxy_type, \n",
    "#     redshift, \n",
    "#     directory_name, \n",
    "#     file_name = \"L_line_averageSobolevH_hybridInterpolator_flux2Luminosity.txt\"\n",
    "# )\n",
    "\n",
    "hybridND = read_otherProperties(\n",
    "    galaxy_name, \n",
    "    galaxy_type, \n",
    "    redshift, \n",
    "    directory_name, \n",
    "    file_name = \"otherProperties_averageSobolevH_hybridInterpolator.txt\",\n",
    "    base_fdir = base_dir    \n",
    ")\n",
    "print(\"hybridND read\")\n"
   ]
  },
  {
   "cell_type": "code",
   "execution_count": 5,
   "metadata": {},
   "outputs": [
    {
     "data": {
      "text/plain": [
       "Index(['x', 'y', 'z', 'smoothing_length', 'mass', 'metallicity', 'temperature',\n",
       "       'vx', 'vy', 'vz', 'hden', 'radius', 'sfr', 'turbulence', 'density',\n",
       "       'mu_theoretical', 'average_sobolev_smoothingLength', 'index', 'isrf',\n",
       "       'fh2', 'fCO', 'h2_mass', 'co_mass'],\n",
       "      dtype='object')"
      ]
     },
     "execution_count": 5,
     "metadata": {},
     "output_type": "execute_result"
    }
   ],
   "source": [
    "hybridND.keys()"
   ]
  },
  {
   "cell_type": "code",
   "execution_count": 6,
   "metadata": {},
   "outputs": [
    {
     "name": "stdout",
     "output_type": "stream",
     "text": [
      "sfr: 2.203638999999999\n",
      "nearest: 5.469934052925942 --- hybrid: 3.8902745322129966\n"
     ]
    }
   ],
   "source": [
    "column_name = \"h2_mass\"\n",
    "\n",
    "sum_nearestND = sum(nearestND[column_name])\n",
    "sum_hybrid = sum(hybridND[column_name])\n",
    "\n",
    "print(f\"sfr: {sum(nearestND['sfr'])}\")\n",
    "print(f\"nearest: {sum_nearestND/1e8} --- hybrid: {sum_hybrid/1e8}\")"
   ]
  }
 ],
 "metadata": {
  "kernelspec": {
   "display_name": "Python 3",
   "language": "python",
   "name": "python3"
  },
  "language_info": {
   "codemirror_mode": {
    "name": "ipython",
    "version": 3
   },
   "file_extension": ".py",
   "mimetype": "text/x-python",
   "name": "python",
   "nbconvert_exporter": "python",
   "pygments_lexer": "ipython3",
   "version": "3.8.5"
  }
 },
 "nbformat": 4,
 "nbformat_minor": 4
}
