{
 "cells": [
  {
   "cell_type": "code",
   "execution_count": 2,
   "metadata": {},
   "outputs": [],
   "source": [
    "# import sys \n",
    "# sys.path.append(\"/scratch/m/murray/dtolgay\")\n",
    "# from tools import functions_readfiles as readfiles\n",
    "\n",
    "import numpy as np \n",
    "import pandas as pd \n",
    "import matplotlib.pyplot as plt\n",
    "plt.style.use(\"seaborn-poster\")"
   ]
  },
  {
   "cell_type": "code",
   "execution_count": 3,
   "metadata": {},
   "outputs": [],
   "source": [
    "def read_line_luminosities(fdir):\n",
    "    \n",
    "    lines = [\n",
    "        \"L_ly_alpha\",  # [erg s^-1]\n",
    "        \"L_h_alpha\", # [erg s^-1]\n",
    "        \"L_h_beta\", # [erg s^-1]\n",
    "        \"L_co_10\", # [K km s^-1 pc^2] \n",
    "        \"L_co_21\", # [K km s^-1 pc^2] \n",
    "        \"L_co_32\", # [K km s^-1 pc^2] \n",
    "        \"L_co_43\", # [K km s^-1 pc^2] \n",
    "        \"L_co_54\", # [K km s^-1 pc^2] \n",
    "        \"L_co_65\", # [K km s^-1 pc^2] \n",
    "        \"L_co_76\", # [K km s^-1 pc^2] \n",
    "        \"L_co_87\", # [K km s^-1 pc^2] \n",
    "        \"L_13co\",  # [K km s^-1 pc^2] \n",
    "        \"L_c2\", # [erg s^-1]\n",
    "        \"L_o3_88\", # [erg s^-1]\n",
    "        \"L_o3_5006\", # [erg s^-1]\n",
    "        \"L_o3_4958\", # [erg s^-1] \n",
    "    ]\n",
    "\n",
    "    gas_column_names = [\n",
    "        \"x\",                                    # pc \n",
    "        \"y\",                                    # pc \n",
    "        \"z\",                                    # pc \n",
    "        \"smoothing_length\",                     # pc \n",
    "        \"mass\",                                 # Msolar\n",
    "        \"metallicity\",                          # Zsolar\n",
    "        \"temperature\",                          # Kelvin\n",
    "        \"vx\",                                   # km/s\n",
    "        \"vy\",                                   # km/s\n",
    "        \"vz\",                                   # km/s\n",
    "        \"hden\",                                 # 1/cm3\n",
    "        \"radius\",                               # pc \n",
    "        \"sfr\",                                  # Msolar / year\n",
    "        \"turbulence\",                           # km/s\n",
    "        \"density\",                              # gr/cm3\n",
    "        \"mu_theoretical\",                       # 1\n",
    "        \"average_sobolev_smoothingLength\",      # pc \n",
    "        \"index\",                                # 1\n",
    "        \"isrf\",                                 # G0\n",
    "    ] + lines\n",
    "\n",
    "\n",
    "    gas = pd.DataFrame(\n",
    "        np.loadtxt(fname=fdir), \n",
    "        columns=gas_column_names\n",
    "    )    \n",
    "    \n",
    "    return gas"
   ]
  },
  {
   "cell_type": "code",
   "execution_count": 4,
   "metadata": {},
   "outputs": [],
   "source": [
    "base_fdir = \"/scratch/m/murray/dtolgay/cloudy_runs/z_0/m12i_res7100_md_test\"\n",
    "\n",
    "runs = {\n",
    "    \"expected\": {\n",
    "        \"fdir\": f\"{base_fdir}/L_line_smoothingLength_expected_flux2Luminosity.txt\",\n",
    "        \"data\": pd.DataFrame(),\n",
    "        \"color\": \"black\",\n",
    "    },\n",
    "    \"nearestNDInterpolator\": {\n",
    "        \"fdir\": f\"{base_fdir}/L_line_smoothingLength_nearestNDInterpolator_flux2Luminosity.txt\",\n",
    "        \"data\": pd.DataFrame(),\n",
    "        \"color\": \"red\",\n",
    "    },    \n",
    "    \"hybridInterpolator\": {\n",
    "        \"fdir\": f\"{base_fdir}/L_line_smoothingLength_hybridInterpolator_flux2Luminosity.txt\",\n",
    "        \"data\": pd.DataFrame(),\n",
    "        \"color\": \"red\",\n",
    "    },    \n",
    "}\n",
    "\n",
    "for run in runs.keys():\n",
    "    runs[run][\"data\"] = read_line_luminosities(runs[run][\"fdir\"])"
   ]
  },
  {
   "cell_type": "code",
   "execution_count": 10,
   "metadata": {},
   "outputs": [
    {
     "name": "stdout",
     "output_type": "stream",
     "text": [
      "log10(Lco10): 6.803212969824125 ---- expected\n",
      "log10(Lco10): 7.261348916636689 ---- nearestNDInterpolator\n",
      "log10(Lco10): 6.866625445329061 ---- hybridInterpolator\n"
     ]
    }
   ],
   "source": [
    "for run in runs.keys():\n",
    "    print(f'log10(Lco10): {np.log10(sum(runs[run][\"data\"][\"L_co_10\"]))} ---- {run}')"
   ]
  }
 ],
 "metadata": {
  "kernelspec": {
   "display_name": "Python 3",
   "language": "python",
   "name": "python3"
  },
  "language_info": {
   "codemirror_mode": {
    "name": "ipython",
    "version": 3
   },
   "file_extension": ".py",
   "mimetype": "text/x-python",
   "name": "python",
   "nbconvert_exporter": "python",
   "pygments_lexer": "ipython3",
   "version": "3.8.5"
  }
 },
 "nbformat": 4,
 "nbformat_minor": 4
}
