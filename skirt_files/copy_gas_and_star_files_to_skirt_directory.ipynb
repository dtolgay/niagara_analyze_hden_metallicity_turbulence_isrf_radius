{
 "cells": [
  {
   "cell_type": "code",
   "execution_count": 1,
   "id": "777d56d3",
   "metadata": {},
   "outputs": [],
   "source": [
    "import shutil"
   ]
  },
  {
   "cell_type": "code",
   "execution_count": 2,
   "id": "54923689",
   "metadata": {},
   "outputs": [],
   "source": [
    "file_names = [\n",
    "    \"skirt_gas.txt\",\n",
    "    \"skirt_star.txt\",\n",
    "    \"comprehensive_gas.txt\",\n",
    "    \"comprehensive_star.txt\"\n",
    "]\n",
    "\n",
    "directory_name = \"level5_11_tau2_frac6\""
   ]
  },
  {
   "cell_type": "code",
   "execution_count": 3,
   "id": "5a68953a",
   "metadata": {},
   "outputs": [
    {
     "name": "stdout",
     "output_type": "stream",
     "text": [
      "\n",
      "\n",
      "\n",
      "/mnt/raid-cita/dtolgay/FIRE/post_processing_fire_outputs/skirt/runs_hden_radius/firebox/z0.0/gal0/trial1/skirt_gas.txt -> /mnt/raid-cita/dtolgay/FIRE/post_processing_fire_outputs/skirt/runs_hden_radius/firebox/z0.0/gal0/level5_11_tau2_frac6\n",
      "\n",
      "/mnt/raid-cita/dtolgay/FIRE/post_processing_fire_outputs/skirt/runs_hden_radius/firebox/z0.0/gal0/trial1/skirt_star.txt -> /mnt/raid-cita/dtolgay/FIRE/post_processing_fire_outputs/skirt/runs_hden_radius/firebox/z0.0/gal0/level5_11_tau2_frac6\n",
      "\n",
      "/mnt/raid-cita/dtolgay/FIRE/post_processing_fire_outputs/skirt/runs_hden_radius/firebox/z0.0/gal0/trial1/comprehensive_gas.txt -> /mnt/raid-cita/dtolgay/FIRE/post_processing_fire_outputs/skirt/runs_hden_radius/firebox/z0.0/gal0/level5_11_tau2_frac6\n",
      "\n",
      "/mnt/raid-cita/dtolgay/FIRE/post_processing_fire_outputs/skirt/runs_hden_radius/firebox/z0.0/gal0/trial1/comprehensive_star.txt -> /mnt/raid-cita/dtolgay/FIRE/post_processing_fire_outputs/skirt/runs_hden_radius/firebox/z0.0/gal0/level5_11_tau2_frac6\n",
      "\n"
     ]
    }
   ],
   "source": [
    "galaxy_type = \"firebox\"\n",
    "redshift = \"0.0\"\n",
    "\n",
    "# for file_number in range(30):\n",
    "for file_number in [0]:\n",
    "    print(\"\\n\\n\")\n",
    "    for file_name in file_names:\n",
    "        try:\n",
    "            source_file_path = f\"/mnt/raid-cita/dtolgay/FIRE/post_processing_fire_outputs/skirt/runs_hden_radius/{galaxy_type}/z{redshift}/gal{file_number}/trial1/{file_name}\"\n",
    "            destination_file_path = f\"/mnt/raid-cita/dtolgay/FIRE/post_processing_fire_outputs/skirt/runs_hden_radius/{galaxy_type}/z{redshift}/gal{file_number}/{directory_name}\"\n",
    "\n",
    "            \n",
    "            # Copy the file with it's new name\n",
    "            shutil.copy(source_file_path, destination_file_path)\n",
    "\n",
    "            print(f\"{source_file_path} -> {destination_file_path}\\n\")\n",
    "            \n",
    "        except IOError as e:\n",
    "            print(f\"Unable to copy file. {e}\")\n",
    "\n",
    "        except PermissionError as e:\n",
    "            print(f\"Permission denied. {e}\")    "
   ]
  }
 ],
 "metadata": {
  "kernelspec": {
   "display_name": "Python 3 (ipykernel)",
   "language": "python",
   "name": "python3"
  },
  "language_info": {
   "codemirror_mode": {
    "name": "ipython",
    "version": 3
   },
   "file_extension": ".py",
   "mimetype": "text/x-python",
   "name": "python",
   "nbconvert_exporter": "python",
   "pygments_lexer": "ipython3",
   "version": "3.10.2"
  }
 },
 "nbformat": 4,
 "nbformat_minor": 5
}
