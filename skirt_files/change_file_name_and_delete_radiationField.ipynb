{
 "cells": [
  {
   "cell_type": "code",
   "execution_count": 3,
   "id": "4819ab7b",
   "metadata": {},
   "outputs": [],
   "source": [
    "import os \n",
    "\n",
    "base_dir = \"/mnt/raid-cita/dtolgay/FIRE/post_processing_fire_outputs/skirt/runs_hden_radius\"\n"
   ]
  },
  {
   "cell_type": "code",
   "execution_count": null,
   "id": "6a8f6544",
   "metadata": {},
   "outputs": [],
   "source": [
    "# base_dir = \"/mnt/raid-cita/dtolgay/FIRE/post_processing_fire_outputs/skirt/runs_hden_radius\"\n",
    "\n",
    "\n",
    "\n",
    "# # galaxy_name = \"m12i_res7100_md\"\n",
    "# # galaxy_type = \"zoom_in\"\n",
    "# # redshift = \"0.0\"\n",
    "\n",
    "# galaxy_name = \"gal20\"\n",
    "# galaxy_type = \"firebox\"\n",
    "# redshift = \"0.0\"\n",
    "\n",
    "\n",
    "# delete_file_name = f\"{galaxy_name}_grid_radiationField_J.dat\"\n",
    "# fdir = f\"{base_dir}/{galaxy_type}/z{redshift}/{galaxy_name}/trial1\"\n",
    "# delete_fdir = f\"{fdir}/{delete_file_name}\"\n",
    "\n",
    "# os.path.isfile(delete_fdir)"
   ]
  },
  {
   "cell_type": "code",
   "execution_count": 4,
   "id": "17d4d28f",
   "metadata": {},
   "outputs": [
    {
     "name": "stdout",
     "output_type": "stream",
     "text": [
      "/mnt/raid-cita/dtolgay/FIRE/post_processing_fire_outputs/skirt/runs_hden_radius/firebox/z0.0/gal100/trial1/gal100_delete.txt removed!\n"
     ]
    }
   ],
   "source": [
    "####################################### For firebox \n",
    "\n",
    "galaxy_type = \"firebox\"\n",
    "redshift = \"0.0\"    \n",
    "\n",
    "# for i in range(1000):\n",
    "for i in [100]:\n",
    "    \n",
    "    galaxy_name = f\"gal{i}\"\n",
    "    \n",
    "    fdir = f\"{base_dir}/{galaxy_type}/z{redshift}/{galaxy_name}/trial1\"\n",
    "#     delete_file_name = f\"{galaxy_name}_grid_radiationField_J.dat\"\n",
    "    delete_file_name = f\"{galaxy_name}_delete.txt\"\n",
    "    delete_fdir = f\"{fdir}/{delete_file_name}\"    \n",
    "    \n",
    "    try:\n",
    "        pass\n",
    "        # Delete the file  \n",
    "        os.remove(delete_fdir)\n",
    "        print(f\"{delete_fdir} removed!\")\n",
    "    except Exception as e:\n",
    "        print(f\"Exception occured: \\n{e}\")    "
   ]
  }
 ],
 "metadata": {
  "kernelspec": {
   "display_name": "Python 3 (ipykernel)",
   "language": "python",
   "name": "python3"
  },
  "language_info": {
   "codemirror_mode": {
    "name": "ipython",
    "version": 3
   },
   "file_extension": ".py",
   "mimetype": "text/x-python",
   "name": "python",
   "nbconvert_exporter": "python",
   "pygments_lexer": "ipython3",
   "version": "3.10.2"
  }
 },
 "nbformat": 4,
 "nbformat_minor": 5
}
