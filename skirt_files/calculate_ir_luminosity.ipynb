{
 "cells": [
  {
   "cell_type": "code",
   "execution_count": 1,
   "id": "5d3da835",
   "metadata": {},
   "outputs": [],
   "source": [
    "import sys\n",
    "sys.path.append(\"/mnt/raid-cita/dtolgay/FIRE/post_processing_fire_outputs\")\n",
    "\n",
    "import numpy as np \n",
    "import pandas as pd \n",
    "from scipy import integrate\n",
    "from tools import constants"
   ]
  },
  {
   "cell_type": "code",
   "execution_count": 2,
   "id": "f0ee02aa",
   "metadata": {},
   "outputs": [],
   "source": [
    "# User defined inputs\n",
    "\n",
    "galaxy_name = \"m12i_res7100_md\"\n",
    "galaxy_type = \"zoom_in\"\n",
    "redshift = \"0.0\"\n",
    "\n",
    "# galaxy_name = \"gal50\"\n",
    "# galaxy_type = \"firebox\"\n",
    "# redshift = \"0.0\"\n",
    "\n",
    "wavelength_min = 8     # um\n",
    "wavelength_max = 1000  # um\n",
    "\n"
   ]
  },
  {
   "cell_type": "code",
   "execution_count": 3,
   "id": "3657a6df",
   "metadata": {},
   "outputs": [
    {
     "data": {
      "text/plain": [
       "8.056766174160508e+43"
      ]
     },
     "execution_count": 3,
     "metadata": {},
     "output_type": "execute_result"
    }
   ],
   "source": [
    "directory_name = \"voronoi_1e6\"\n",
    "FILE_DIR = f\"/mnt/raid-cita/dtolgay/FIRE/post_processing_fire_outputs/skirt/runs_hden_radius/{galaxy_type}/z{redshift}/{galaxy_name}/{directory_name}\"\n",
    "\n",
    "sed = np.loadtxt(\n",
    "    fname=f\"{FILE_DIR}/{galaxy_name}_i0_sed.dat\"\n",
    ")\n",
    "\n",
    "indices = np.where(\n",
    "    (sed[:,0] >= wavelength_min) &\n",
    "    (sed[:,0] <= wavelength_max)\n",
    ")\n",
    "\n",
    "# Use only the wavelengths of interest\n",
    "sed = sed[indices]\n",
    "\n",
    "##### Calculate luminosity\n",
    "# Integrate \n",
    "integrated_total_flux = integrate.simpson(\n",
    "    y = sed[:,1],\n",
    "    x = sed[:,0],\n",
    ") # W/m^2\n",
    "\n",
    "# Multiply with an area\n",
    "# Distance between the galaxy and detector is 10Mpc\n",
    "luminosity = integrated_total_flux * (4 * np.pi * (10*constants.Mpc2meter)**2) * constants.w2ergs # erg/s\n",
    "\n",
    "\n",
    "luminosity"
   ]
  },
  {
   "cell_type": "code",
   "execution_count": 4,
   "id": "833173d2",
   "metadata": {},
   "outputs": [
    {
     "name": "stdout",
     "output_type": "stream",
     "text": [
      "CPU times: user 6.48 s, sys: 373 ms, total: 6.85 s\n",
      "Wall time: 7.1 s\n"
     ]
    }
   ],
   "source": [
    "%%time\n",
    "# Luminosity expected to receive from the stars: \n",
    "\n",
    "columns = [\n",
    "    \"x\",\n",
    "    \"y\",\n",
    "    \"z\",\n",
    "    \"vx\",\n",
    "    \"vy\",\n",
    "    \"vz\",\n",
    "    \"metallicity\",\n",
    "    \"mass\",\n",
    "    \"age\"\n",
    "]\n",
    "\n",
    "stars = pd.DataFrame(\n",
    "    np.loadtxt(fname = f\"{FILE_DIR}/comprehensive_star.txt\"), \n",
    "    columns=columns\n",
    ")\n"
   ]
  },
  {
   "cell_type": "code",
   "execution_count": 5,
   "id": "6a643c27",
   "metadata": {},
   "outputs": [
    {
     "name": "stdout",
     "output_type": "stream",
     "text": [
      "number_of_stars: 3.508284297354603e10\n"
     ]
    },
    {
     "data": {
      "text/plain": [
       "1.1920171309513535e+44"
      ]
     },
     "execution_count": 5,
     "metadata": {},
     "output_type": "execute_result"
    }
   ],
   "source": [
    "Lsolar2ergs = 3.826e33 # ergs/s\n",
    "\n",
    "stefan_boltzmann_sigma = 5.67e-5 # erg cm^-2 T^-4 s^-1 \n",
    "Tstar = 5600 # K \n",
    "sun_radius = 696340e5 # cm\n",
    "\n",
    "flux_single_star = stefan_boltzmann_sigma * (Tstar**4)\n",
    "\n",
    "number_of_stars = sum(stars[\"mass\"]) \n",
    "print(f\"number_of_stars: {number_of_stars/1e10}e10\")\n",
    "\n",
    "Lstars =  flux_single_star * ( 4 * np.pi * sun_radius**2 ) * number_of_stars\n",
    "\n",
    "Lstars"
   ]
  },
  {
   "cell_type": "code",
   "execution_count": 6,
   "id": "7cad5487",
   "metadata": {},
   "outputs": [
    {
     "data": {
      "text/plain": [
       "1.3422695721678711e+44"
      ]
     },
     "execution_count": 6,
     "metadata": {},
     "output_type": "execute_result"
    }
   ],
   "source": [
    "Lsolar2ergs*number_of_stars"
   ]
  },
  {
   "cell_type": "code",
   "execution_count": 9,
   "id": "e4e826c2",
   "metadata": {},
   "outputs": [
    {
     "name": "stdout",
     "output_type": "stream",
     "text": [
      "CPU times: user 1.59 s, sys: 79 ms, total: 1.67 s\n",
      "Wall time: 1.67 s\n"
     ]
    },
    {
     "data": {
      "text/plain": [
       "96028"
      ]
     },
     "execution_count": 9,
     "metadata": {},
     "output_type": "execute_result"
    }
   ],
   "source": [
    "%%time\n",
    "gas = np.loadtxt(fname = f\"{FILE_DIR}/comprehensive_gas.txt\")\n",
    "\n",
    "len(gas)"
   ]
  }
 ],
 "metadata": {
  "kernelspec": {
   "display_name": "Python 3 (ipykernel)",
   "language": "python",
   "name": "python3"
  },
  "language_info": {
   "codemirror_mode": {
    "name": "ipython",
    "version": 3
   },
   "file_extension": ".py",
   "mimetype": "text/x-python",
   "name": "python",
   "nbconvert_exporter": "python",
   "pygments_lexer": "ipython3",
   "version": "3.10.2"
  }
 },
 "nbformat": 4,
 "nbformat_minor": 5
}
