{
 "cells": [
  {
   "cell_type": "markdown",
   "id": "728498e6",
   "metadata": {},
   "source": [
    "The purpose of this code is to find if lower resolution skirt runs are very different in terms of the final isrf calculation"
   ]
  },
  {
   "cell_type": "code",
   "execution_count": null,
   "id": "7ef7af71",
   "metadata": {},
   "outputs": [],
   "source": [
    "import numpy as np \n",
    "import pandas as pd\n",
    "\n",
    "import matplotlib.pyplot as plt\n",
    "plt.style.use(\"seaborn-poster\")"
   ]
  },
  {
   "cell_type": "code",
   "execution_count": null,
   "id": "d2f1973e",
   "metadata": {},
   "outputs": [],
   "source": [
    "%%time\n",
    "fdir = \"/mnt/raid-cita/dtolgay/FIRE/post_processing_fire_outputs/skirt/runs_hden_radius/firebox/z0.0/gal0\"\n",
    "\n",
    "# Read gas particles\n",
    "gas_column_names = [\n",
    "    \"x-coordinate\",  # pc\n",
    "    \"y-coordinate\", \n",
    "    \"z-coordinate\", \n",
    "    \"smoothing length\", # pc \n",
    "    \"mass\",  # Msolar\n",
    "    \"metallicity\",  # \n",
    "    \"temperature\", \n",
    "    \"vx\", \n",
    "    \"vy\", \n",
    "    \"vz\", \n",
    "    \"hden\", \n",
    "    \"radius\", \n",
    "    \"sfr\", \n",
    "    \"turbulence\", \n",
    "    \"density\", \n",
    "    \"mu_theoretical\", \n",
    "    \"average_sobolev_smoothingLength\",\n",
    "    \"index\", \n",
    "    \"isrf\",\n",
    "    \"L_ly_alpha\", # [erg s^-1]\n",
    "    \"L_h_alpha\",  # [erg s^-1]\n",
    "    \"L_h_beta\",   # [erg s^-1]\n",
    "    \"L_co_10\",    # [K km s^-1 pc^2]\n",
    "    \"L_o3_5006\",  # [erg s^-1]\n",
    "]\n",
    "\n",
    "trial1 = pd.DataFrame(\n",
    "    np.loadtxt(f\"{fdir}/trial1/L_line_average_sobolev_smoothingLength_high_hden_low_hden.txt\"),\n",
    "    columns=gas_column_names\n",
    ")\n",
    "\n",
    "level5_10_tau2_frac6 = pd.DataFrame(\n",
    "    np.loadtxt(f\"{fdir}/level5_10_tau2_frac6/L_line_average_sobolev_smoothingLength_high_hden_low_hden.txt\"),\n",
    "    columns=gas_column_names\n",
    ")\n",
    "\n",
    "level5_10_tau2_frac6_wavelengthBins250 = pd.DataFrame(\n",
    "    np.loadtxt(f\"{fdir}/level5_10_tau2_frac6_wavelengthBins250/L_line_average_sobolev_smoothingLength_high_hden_low_hden.txt\"),\n",
    "    columns=gas_column_names\n",
    ")\n",
    "\n",
    "level5_11_tau2_frac6 = pd.DataFrame(\n",
    "    np.loadtxt(f\"{fdir}/level5_11_tau2_frac6/L_line_average_sobolev_smoothingLength_high_hden_low_hden.txt\"),\n",
    "    columns=gas_column_names\n",
    ")\n",
    "\n",
    "voronoi_1e5 = pd.DataFrame(\n",
    "    np.loadtxt(f\"{fdir}/voronoi_1e5/L_line_average_sobolev_smoothingLength_high_hden_low_hden.txt\"),\n",
    "    columns=gas_column_names\n",
    ")\n",
    "\n",
    "voronoi_1e6 = pd.DataFrame(\n",
    "    np.loadtxt(f\"{fdir}/voronoi_1e6/L_line_average_sobolev_smoothingLength_high_hden_low_hden.txt\"),\n",
    "    columns=gas_column_names\n",
    ")"
   ]
  },
  {
   "cell_type": "code",
   "execution_count": null,
   "id": "4abc0694",
   "metadata": {},
   "outputs": [],
   "source": [
    "a = len(trial1) == len(level5_10_tau2_frac6)\n",
    "b = len(level5_10_tau2_frac6_wavelengthBins250) == len(level5_10_tau2_frac6)\n",
    "\n",
    "a & b"
   ]
  },
  {
   "cell_type": "code",
   "execution_count": null,
   "id": "e028c86f",
   "metadata": {
    "scrolled": false
   },
   "outputs": [],
   "source": [
    "bins = np.linspace(start=-5, stop=5, num=1000)\n",
    "\n",
    "figure, axs = plt.subplots(nrows=3, ncols=2)\n",
    "\n",
    "axs[0,0].hist(np.log10(trial1[\"isrf\"]), bins = bins, density = True, label=\"trial1\")\n",
    "# axs[0,0].set_ylim([0,250])\n",
    "axs[0,0].legend()\n",
    "\n",
    "axs[0,1].hist(np.log10(level5_10_tau2_frac6[\"isrf\"]), bins = bins, density = True, label=\"level5_10_tau2_frac6\")\n",
    "# plt.ylim([0,250])\n",
    "axs[0,1].legend()\n",
    "\n",
    "axs[1,0].hist(np.log10(level5_10_tau2_frac6_wavelengthBins250[\"isrf\"]), bins = bins, density = True, label=\"level5_10_tau2_frac6_wavelengthBins250\")\n",
    "# plt.ylim([0,250])\n",
    "axs[1,0].legend()\n",
    "\n",
    "axs[1,1].hist(np.log10(level5_11_tau2_frac6[\"isrf\"]), bins = bins, density = True, label=\"level5_11_tau2_frac6\")\n",
    "# plt.ylim([0,250])\n",
    "axs[1,1].legend()\n",
    "\n",
    "\n",
    "axs[2,0].hist(np.log10(voronoi_1e5[\"isrf\"]), bins = bins, density = True, label=\"voronoi_1e5\")\n",
    "# axs[2,0].set_ylim([0,250])\n",
    "axs[2,0].legend()\n",
    "\n",
    "axs[2,1].hist(np.log10(voronoi_1e6[\"isrf\"]), bins = bins, density = True, label=\"voronoi_1e6\")\n",
    "# axs[2,1].set_ylim([0,250])\n",
    "axs[2,1].legend()\n",
    "\n",
    "\n",
    "plt.show()\n"
   ]
  },
  {
   "cell_type": "code",
   "execution_count": null,
   "id": "fdbcace2",
   "metadata": {},
   "outputs": [],
   "source": [
    "indices1 = np.where(np.log10(trial1[\"isrf\"])>0)[0]\n",
    "indices2 = np.where(np.log10(trial1[\"isrf\"])<0)[0]\n",
    "\n",
    "\n",
    "bins = np.linspace(start=-5, stop=5, num=1000)\n",
    "\n",
    "figure, axs = plt.subplots(nrows=2, ncols=2)\n",
    "\n",
    "axs[0,0].hist(np.log10(trial1.iloc[indices1][\"isrf\"]), bins = bins, label=\"isrf > 0\")\n",
    "# axs[0,0].set_ylim([0,250])\n",
    "axs[0,0].legend()\n",
    "\n",
    "axs[0,1].hist(np.log10(trial1.iloc[indices1][\"L_co_10\"]), bins = bins, label=\"Lco > 0\")\n",
    "# axs[0,0].set_ylim([0,250])\n",
    "axs[0,1].legend()\n",
    "\n",
    "axs[1,0].hist(np.log10(trial1.iloc[indices2][\"isrf\"]), bins = bins, label=\"isrf < 0\")\n",
    "# axs[0,0].set_ylim([0,250])\n",
    "axs[1,0].legend()\n",
    "axs[1,0].set_xlabel(\"log(isrf)\")\n",
    "\n",
    "axs[1,1].hist(np.log10(trial1.iloc[indices2][\"L_co_10\"]), bins = bins, label=\"Lco < 0\")\n",
    "# axs[0,0].set_ylim([0,250])\n",
    "axs[1,1].legend()\n",
    "axs[1,1].set_xlabel(\"log(Lco)\")\n",
    "\n",
    "plt.show()"
   ]
  },
  {
   "cell_type": "code",
   "execution_count": null,
   "id": "118142e2",
   "metadata": {},
   "outputs": [],
   "source": [
    "bins = np.linspace(start=-5, stop=5, num=1000)\n",
    "\n",
    "figure, axs = plt.subplots(nrows=3, ncols=2)\n",
    "\n",
    "axs[0,0].hist(np.log10(trial1[\"L_co_10\"]), bins = bins, density = True, label=\"trial1\")\n",
    "# axs[0,0].set_ylim([0,250])\n",
    "axs[0,0].legend()\n",
    "\n",
    "axs[0,1].hist(np.log10(level5_10_tau2_frac6[\"L_co_10\"]), bins = bins, density = True, label=\"level5_10_tau2_frac6\")\n",
    "# plt.ylim([0,250])\n",
    "axs[0,1].legend()\n",
    "\n",
    "axs[1,0].hist(np.log10(level5_10_tau2_frac6_wavelengthBins250[\"L_co_10\"]), bins = bins, density = True, label=\"level5_10_tau2_frac6_wavelengthBins250\")\n",
    "# plt.ylim([0,250])\n",
    "axs[1,0].legend()\n",
    "\n",
    "axs[1,1].hist(np.log10(level5_11_tau2_frac6[\"L_co_10\"]), bins = bins, density = True, label=\"level5_11_tau2_frac6\")\n",
    "# plt.ylim([0,250])\n",
    "axs[1,1].legend()\n",
    "\n",
    "\n",
    "axs[2,0].hist(np.log10(voronoi_1e5[\"L_co_10\"]), bins = bins, density = True, label=\"voronoi_1e5\")\n",
    "# axs[2,0].set_ylim([0,250])\n",
    "axs[2,0].legend()\n",
    "\n",
    "axs[2,1].hist(np.log10(voronoi_1e6[\"L_co_10\"]), bins = bins, density = True, label=\"voronoi_1e6\")\n",
    "# axs[2,1].set_ylim([0,250])\n",
    "axs[2,1].legend()\n",
    "\n",
    "\n",
    "plt.show()\n"
   ]
  },
  {
   "cell_type": "code",
   "execution_count": null,
   "id": "192fd3f7",
   "metadata": {},
   "outputs": [],
   "source": [
    "bins = np.linspace(0, 2, num = 100)\n",
    "\n",
    "\n",
    "ratio = abs(np.log10(level5_10_tau2_frac6[\"isrf\"]) / np.log10(trial1[\"isrf\"]))\n",
    "plt.hist(ratio, bins = bins)\n",
    "plt.show()"
   ]
  },
  {
   "cell_type": "code",
   "execution_count": null,
   "id": "7195b886",
   "metadata": {},
   "outputs": [],
   "source": [
    "\n",
    "print(\"CO\")\n",
    "print(f'''\n",
    "trial1: {sum(trial1[\"L_co_10\"])/1e9}e9 --- \n",
    "level5_10_tau2_frac6: {sum(level5_10_tau2_frac6[\"L_co_10\"])/1e9}e9 --- \n",
    "level5_10_tau2_frac6_wavelengthBins250: {sum(level5_10_tau2_frac6_wavelengthBins250[\"L_co_10\"])/1e9}e9 --- \n",
    "level5_11_tau2_frac6: {sum(level5_11_tau2_frac6[\"L_co_10\"])/1e9}e9 ---\n",
    "voronoi_1e5: {sum(voronoi_1e5[\"L_co_10\"])/1e9}e9 ---\n",
    "voronoi_1e6: {sum(voronoi_1e6[\"L_co_10\"])/1e9}e9 ---\n",
    "''')\n",
    "\n",
    "\n",
    "print(\"\\n\\n\")\n",
    "\n",
    "print(\"lya\")\n",
    "print(f'''\n",
    "trial1: {sum(trial1[\"L_ly_alpha\"])/1e42}e42 --- \n",
    "level5_10_tau2_frac6: {sum(level5_10_tau2_frac6[\"L_ly_alpha\"])/1e42}e42 --- \n",
    "level5_10_tau2_frac6_wavelengthBins250: {sum(level5_10_tau2_frac6_wavelengthBins250[\"L_ly_alpha\"])/1e42}e42 --- \n",
    "level5_11_tau2_frac6: {sum(level5_11_tau2_frac6[\"L_ly_alpha\"])/1e42}e42 ---\n",
    "voronoi_1e5: {sum(voronoi_1e5[\"L_ly_alpha\"])/1e42}e42 ---\n",
    "voronoi_1e6: {sum(voronoi_1e6[\"L_ly_alpha\"])/1e42}e42 ---\n",
    "''')\n",
    "\n",
    "print(\"\\n\\n\")\n",
    "\n",
    "print(\"ha\")\n",
    "print(f'''\n",
    "trial1: {sum(trial1[\"L_h_alpha\"])/1e41}e41 --- \n",
    "level5_10_tau2_frac6: {sum(level5_10_tau2_frac6[\"L_h_alpha\"])/1e41}e41 --- \n",
    "level5_10_tau2_frac6_wavelengthBins250: {sum(level5_10_tau2_frac6_wavelengthBins250[\"L_h_alpha\"])/1e41}e41 --- \n",
    "level5_11_tau2_frac6: {sum(level5_11_tau2_frac6[\"L_h_alpha\"])/1e41}e41 ---\n",
    "voronoi_1e5: {sum(voronoi_1e5[\"L_h_alpha\"])/1e41}e41 ---\n",
    "voronoi_1e6: {sum(voronoi_1e6[\"L_h_alpha\"])/1e41}e41 ---\n",
    "''')\n",
    "\n"
   ]
  },
  {
   "cell_type": "markdown",
   "id": "f99bf81c",
   "metadata": {},
   "source": [
    "# RBF Interpolator"
   ]
  },
  {
   "cell_type": "code",
   "execution_count": 1,
   "id": "48dc6e5f",
   "metadata": {},
   "outputs": [],
   "source": [
    "import sys \n",
    "sys.path.append('/mnt/raid-cita/dtolgay/FIRE/post_processing_fire_outputs/')\n",
    "\n",
    "from tools import functions_readfiles as readfiles\n",
    "from tools import functions_importing_observations as observations\n",
    "\n",
    "import numpy as np \n",
    "import pandas as pd\n",
    "\n",
    "\n",
    "import matplotlib.pyplot as plt\n",
    "plt.style.use(\"seaborn-poster\")"
   ]
  },
  {
   "cell_type": "code",
   "execution_count": 2,
   "id": "0992cd18",
   "metadata": {},
   "outputs": [
    {
     "name": "stdout",
     "output_type": "stream",
     "text": [
      "I am in the function XCold_Gass_data_reading\n",
      "I am in the function PHIBSS2_data_reading\n",
      "I am in the function ALMA_2019_Data_Reading\n",
      "I am in the function Leroy_data_reading\n",
      "average_radius_r25_times_075_LEROY:  8.886206896551723\n",
      "CPU times: user 7min 8s, sys: 35.4 s, total: 7min 43s\n",
      "Wall time: 7min 52s\n"
     ]
    }
   ],
   "source": [
    "%%time\n",
    "\n",
    "# Observations \n",
    "XCOLDGASS_df, PHIBBS2_df, ALMA_df, Leroy_df = observations.read_CO_observations()\n",
    "\n",
    "\n",
    "# FIRE Data\n",
    "galaxy_name = \"m12i_res7100_md\"\n",
    "galaxy_type = \"zoom_in\"\n",
    "redshift = \"0.0\"\n",
    "\n",
    "base_fdir = f\"/mnt/raid-cita/dtolgay/FIRE/post_processing_fire_outputs/skirt/runs_hden_radius/{galaxy_type}/z{redshift}/{galaxy_name}\"\n",
    "\n",
    "runs = {\n",
    "    \"voronoi_3e6\": {\n",
    "        \"dir_name\": \"voronoi_3e6\",\n",
    "        \"color\": \"tab:gray\",\n",
    "        \"label\": \"voronoi_3e6\",\n",
    "        \"data\": pd.DataFrame(),        \n",
    "    },      \n",
    "    \"voronoi_1e6\": {\n",
    "        \"dir_name\": \"voronoi_1e6\",\n",
    "        \"color\": \"Tab:Orange\",\n",
    "        \"label\": \"voronoi_1e6\",\n",
    "        \"data\": pd.DataFrame(),\n",
    "    },\n",
    "    \"voronoi_3e5\": {\n",
    "        \"dir_name\": \"voronoi_3e5\",\n",
    "        \"color\": \"tab:brown\",\n",
    "        \"label\": \"voronoi_3e5\",\n",
    "        \"data\": pd.DataFrame(),        \n",
    "    },      \n",
    "    \"voronoi_1e5\": {\n",
    "        \"dir_name\": \"voronoi_1e5\",\n",
    "        \"color\": \"Tab:Red\",\n",
    "        \"label\": \"voronoi_1e5\",\n",
    "        \"data\": pd.DataFrame(),\n",
    "    },   \n",
    "    \"voronoi_1e4\": {\n",
    "        \"dir_name\": \"voronoi_1e4\",\n",
    "        \"color\": \"violet\",\n",
    "        \"label\": \"voronoi_1e4\",\n",
    "        \"data\": pd.DataFrame(),        \n",
    "    },     \n",
    "}\n",
    "\n",
    "\n",
    "\n",
    "for run in runs.keys():\n",
    "    \n",
    "    # Read line emissions \n",
    "    lines, lines_columns = readfiles.read_interpolated_files_usingFilePath(\n",
    "        path = f\"{base_fdir}/{runs[run]['dir_name']}/line_emissions_RBFInterpolator_smoothingLength.txt\", \n",
    "        interpolation_type = \"line_emissions\",\n",
    "    )\n",
    "    \n",
    "    # Read abundance \n",
    "    abundance, abundance_columns = readfiles.read_interpolated_files_usingFilePath(\n",
    "        path = f\"{base_fdir}/{runs[run]['dir_name']}/abundance_RBFInterpolator_smoothingLength.txt\", \n",
    "        interpolation_type = \"abundance\",\n",
    "    )    \n",
    "    \n",
    "    # Read temperatures \n",
    "    temperature, temperature_columns = readfiles.read_interpolated_files_usingFilePath(\n",
    "        path = f\"{base_fdir}/{runs[run]['dir_name']}/temperature_RBFInterpolator_smoothingLength.txt\", \n",
    "        interpolation_type = \"temperature\",\n",
    "    )    \n",
    "    \n",
    "    # Merge the dataframes \n",
    "    data = lines.merge(abundance[abundance_columns + ['index']], how='inner', on='index')\n",
    "    data = data.merge(temperature[temperature_columns + ['index']], how='inner', on='index')\n",
    "    \n",
    "    \n",
    "    \n",
    "    runs[run][\"data\"] = data"
   ]
  },
  {
   "cell_type": "code",
   "execution_count": 3,
   "id": "56b21469",
   "metadata": {},
   "outputs": [
    {
     "name": "stdout",
     "output_type": "stream",
     "text": [
      "voronoi_3e6 -- Lco10: 8.41e+08\n",
      "voronoi_1e6 -- Lco10: 8.26e+08\n",
      "voronoi_3e5 -- Lco10: 8.03e+08\n",
      "voronoi_1e5 -- Lco10: 7.74e+08\n",
      "voronoi_1e4 -- Lco10: 7.14e+08\n",
      "\n",
      "\n",
      "voronoi_3e6 -- Lha: 3.06e+41\n",
      "voronoi_1e6 -- Lha: 3.07e+41\n",
      "voronoi_3e5 -- Lha: 3.11e+41\n",
      "voronoi_1e5 -- Lha: 3.24e+41\n",
      "voronoi_1e4 -- Lha: 4.16e+41\n"
     ]
    }
   ],
   "source": [
    "for key, value in runs.items():\n",
    "    print(f\"{value['label']} -- Lco10: {sum(value['data']['L_co_10']):.2e}\")\n",
    "\n",
    "print(\"\\n\")\n",
    "\n",
    "for key, value in runs.items():\n",
    "    print(f\"{value['label']} -- Lha: {sum(value['data']['L_h_alpha']):.2e}\")\n"
   ]
  },
  {
   "cell_type": "code",
   "execution_count": 4,
   "id": "0ca15055",
   "metadata": {},
   "outputs": [
    {
     "data": {
      "image/png": "[encoded data removed]",
      "text/plain": [
       "<Figure size 921.6x633.6 with 1 Axes>"
      ]
     },
     "metadata": {
      "needs_background": "light"
     },
     "output_type": "display_data"
    }
   ],
   "source": [
    "detections = XCOLDGASS_df['FLAG_CO'] == 1\n",
    "plt.scatter(\n",
    "    XCOLDGASS_df.loc[detections, 'SFR'],\n",
    "    XCOLDGASS_df.loc[detections, 'Lco'],\n",
    ")\n",
    "\n",
    "for key, value in runs.items():\n",
    "    plt.scatter(\n",
    "        sum(value['data']['sfr']),\n",
    "        sum(value['data']['L_co_10']),\n",
    "        label = value['label'],\n",
    "        color = value['color'],\n",
    "    )\n",
    "\n",
    "plt.legend()\n",
    "plt.xscale(\"log\")\n",
    "plt.yscale(\"log\")\n",
    "plt.xlabel('SFR')\n",
    "plt.ylabel('Lco10')\n",
    "plt.show()"
   ]
  },
  {
   "cell_type": "code",
   "execution_count": null,
   "id": "9d3aa024",
   "metadata": {},
   "outputs": [],
   "source": [
    "for key, value in runs.items():\n",
    "    plt.scatter(value['data']['isrf'], value['data']['L_co_10'], label=value['label'])\n",
    "\n",
    "plt.xlabel('isrf')\n",
    "plt.ylabel('Lco10')\n",
    "plt.xscale('log')\n",
    "plt.yscale('log')\n",
    "plt.legend()\n",
    "plt.show()"
   ]
  },
  {
   "cell_type": "code",
   "execution_count": null,
   "id": "a0d533c6",
   "metadata": {},
   "outputs": [],
   "source": [
    "x = np.linspace(start=min(runs['voronoi_1e6']['data']['isrf']), stop=max(runs['voronoi_1e6']['data']['isrf']), num=100)\n",
    "y = x\n",
    "plt.plot(x,y,c=\"red\")\n",
    "plt.scatter(\n",
    "    runs['voronoi_1e5']['data']['isrf'],\n",
    "    runs['voronoi_1e6']['data']['isrf'],\n",
    ")\n",
    "plt.xlabel('voronoi_1e5')\n",
    "plt.ylabel('voronoi_1e6')\n",
    "plt.xscale('log')\n",
    "plt.yscale('log')\n",
    "plt.show()"
   ]
  },
  {
   "cell_type": "code",
   "execution_count": 7,
   "id": "e33c7d96",
   "metadata": {},
   "outputs": [
    {
     "name": "stdout",
     "output_type": "stream",
     "text": [
      "voronoi_3e6 -- median: 0.11297931\n",
      "voronoi_1e6 -- median: 0.14381539\n",
      "voronoi_3e5 -- median: 0.16606447\n",
      "voronoi_1e5 -- median: 0.18828937\n",
      "voronoi_1e4 -- median: 0.32427644\n",
      "\n",
      "\n",
      "\n",
      "voronoi_3e6 -- mean: 0.7708889616731835\n",
      "voronoi_1e6 -- mean: 0.8270295357376377\n",
      "voronoi_3e5 -- mean: 0.8913275858313006\n",
      "voronoi_1e5 -- mean: 0.9576141249658252\n",
      "voronoi_1e4 -- mean: 1.1546727006604849\n"
     ]
    }
   ],
   "source": [
    "for key, value in runs.items():\n",
    "    print(f\"{value['label']} -- median: {np.median(value['data']['isrf'])}\")\n",
    "    \n",
    "print(\"\\n\\n\")\n",
    "\n",
    "for key, value in runs.items():\n",
    "    print(f\"{value['label']} -- mean: {np.mean(value['data']['isrf'])}\")    "
   ]
  },
  {
   "cell_type": "code",
   "execution_count": 8,
   "id": "d5596dd1",
   "metadata": {},
   "outputs": [
    {
     "data": {
      "text/plain": [
       "0.8270295357376377"
      ]
     },
     "execution_count": 8,
     "metadata": {},
     "output_type": "execute_result"
    }
   ],
   "source": [
    "np.mean(runs['voronoi_1e6']['data']['isrf'])"
   ]
  },
  {
   "cell_type": "code",
   "execution_count": 10,
   "id": "4b7eebd2",
   "metadata": {},
   "outputs": [
    {
     "data": {
      "text/plain": [
       "Index(['x', 'y', 'z', 'smoothing_length', 'mass', 'metallicity', 'temperature',\n",
       "       'vx', 'vy', 'vz', 'hden', 'radius', 'sfr', 'turbulence', 'density',\n",
       "       'mu_theoretical', 'average_sobolev_smoothingLength', 'index', 'isrf',\n",
       "       'L_ly_alpha', 'L_h_alpha', 'L_h_beta', 'L_co_10', 'L_co_21', 'L_co_32',\n",
       "       'L_co_43', 'L_co_54', 'L_co_65', 'L_co_76', 'L_co_87', 'L_13co', 'L_c2',\n",
       "       'L_o3_88', 'L_o3_5006', 'L_o3_4958', 'fh2', 'fCO', 'Th2', 'Tco', 'T'],\n",
       "      dtype='object')"
      ]
     },
     "execution_count": 10,
     "metadata": {},
     "output_type": "execute_result"
    }
   ],
   "source": [
    "runs[run]['data'].columns"
   ]
  },
  {
   "cell_type": "code",
   "execution_count": 11,
   "id": "6fb01867",
   "metadata": {},
   "outputs": [
    {
     "name": "stdout",
     "output_type": "stream",
     "text": [
      "voronoi_3e6: 0.18547441373203774\n",
      "voronoi_1e6: 0.1758577262660613\n",
      "voronoi_3e5: 0.1660799246889103\n",
      "voronoi_1e5: 0.15974674197011057\n",
      "voronoi_1e4: 0.1936779815708285\n"
     ]
    }
   ],
   "source": [
    "for run in runs.keys():\n",
    "    result = sum(runs[run]['data']['isrf'] * runs[run]['data']['radius']**3)/sum(runs[run]['data']['radius']**3)\n",
    "    print(f\"{run}: {result}\")"
   ]
  },
  {
   "cell_type": "markdown",
   "id": "96514bc3",
   "metadata": {},
   "source": [
    "# Cloudy Runs"
   ]
  },
  {
   "cell_type": "code",
   "execution_count": null,
   "id": "6f6c0f2a",
   "metadata": {},
   "outputs": [],
   "source": [
    "# FIRE Data\n",
    "galaxy_name = \"m12i_res7100_md\"\n",
    "galaxy_type = \"zoom_in\"\n",
    "redshift = \"0.0\"\n",
    "\n",
    "base_fdir = f\"/mnt/raid-cita/dtolgay/FIRE/post_processing_fire_outputs/skirt/runs_hden_radius/{galaxy_type}/z{redshift}/{galaxy_name}\"\n",
    "\n",
    "runs = {\n",
    "    \"voronoi_1e5\": {\n",
    "        \"dir_name\": \"voronoi_1e5\",\n",
    "        \"color\": \"Tab:Red\",\n",
    "        \"label\": \"voronoi_1e5\",\n",
    "        \"data\": pd.DataFrame(),\n",
    "    },   \n",
    "    \"40kpc_voronoi_1e5\": {\n",
    "        \"dir_name\": \"40kpc_voronoi_1e5\",\n",
    "        \"color\": \"violet\",\n",
    "        \"label\": \"40kpc_voronoi_1e5\",\n",
    "        \"data\": pd.DataFrame(),        \n",
    "    },     \n",
    "}\n",
    "\n",
    "for run in runs.keys():\n",
    "    runs[run]['data'] = readfiles.read_cloudy_gas_particles(\n",
    "        galaxy_name, \n",
    "        galaxy_type, \n",
    "        redshift, \n",
    "        directory_name = runs[run][\"dir_name\"],\n",
    "        base_fdir = f\"/mnt/raid-cita/dtolgay/FIRE/post_processing_fire_outputs/skirt/runs_hden_radius\"        \n",
    "    )\n"
   ]
  },
  {
   "cell_type": "code",
   "execution_count": null,
   "id": "aa185ab8",
   "metadata": {},
   "outputs": [],
   "source": [
    "# runs[\"40kpc_voronoi_1e5\"]['data']['isrf']\n",
    "\n",
    "criteria"
   ]
  },
  {
   "cell_type": "code",
   "execution_count": null,
   "id": "a4a38f1d",
   "metadata": {},
   "outputs": [],
   "source": [
    "bins = np.linspace(-5, 2, num=100)\n",
    "counter = 0\n",
    "alpha = 1\n",
    "\n",
    "plt.hist(np.log10(runs[\"voronoi_1e5\"]['data']['isrf']), bins=bins, label=\"voronoi_1e5\", alpha=1)\n",
    "\n",
    "\n",
    "criteria = np.sqrt(runs[\"40kpc_voronoi_1e5\"]['data']['x']**2 + runs[\"40kpc_voronoi_1e5\"]['data']['y']**2 + runs[\"40kpc_voronoi_1e5\"]['data']['z']**2) < 20e3\n",
    "plt.hist(np.log10(runs[\"40kpc_voronoi_1e5\"]['data'][criteria]['isrf']), bins=bins, label=\"40kpc_voronoi_1e5\", alpha=0.5)\n",
    "\n",
    "\n",
    "    \n",
    "plt.legend()\n",
    "plt.show()"
   ]
  }
 ],
 "metadata": {
  "kernelspec": {
   "display_name": "Python 3 (ipykernel)",
   "language": "python",
   "name": "python3"
  },
  "language_info": {
   "codemirror_mode": {
    "name": "ipython",
    "version": 3
   },
   "file_extension": ".py",
   "mimetype": "text/x-python",
   "name": "python",
   "nbconvert_exporter": "python",
   "pygments_lexer": "ipython3",
   "version": "3.10.2"
  }
 },
 "nbformat": 4,
 "nbformat_minor": 5
}
