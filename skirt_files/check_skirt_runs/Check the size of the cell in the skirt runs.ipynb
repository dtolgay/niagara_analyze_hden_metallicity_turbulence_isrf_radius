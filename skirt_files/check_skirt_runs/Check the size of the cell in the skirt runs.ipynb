{
 "cells": [
  {
   "cell_type": "code",
   "execution_count": 24,
   "id": "db7f887d",
   "metadata": {},
   "outputs": [],
   "source": [
    "import numpy as np \n",
    "import pandas as pd\n",
    "\n",
    "import matplotlib.pyplot as plt \n",
    "plt.style.use(\"seaborn-poster\")"
   ]
  },
  {
   "cell_type": "code",
   "execution_count": 29,
   "id": "192745b7",
   "metadata": {},
   "outputs": [],
   "source": [
    "galaxy_name = \"gal0\"\n",
    "galaxy_type = \"firebox\"\n",
    "redshift = \"0.0\"\n",
    "which_run = \"level5_10_tau2_frac6\"\n",
    "\n",
    "file_dir = f\"/fs/lustre/scratch/RAID-CITA/dtolgay/FIRE/post_processing_fire_outputs/skirt/runs_hden_radius/{galaxy_type}/z{redshift}/{galaxy_name}/{which_run}/gal0_properties_structureGrid_grid_xyz.dat\"\n",
    "grid = np.loadtxt(file_dir)\n",
    "\n",
    "\n",
    "cell_properties_file_name = f\"/fs/lustre/scratch/RAID-CITA/dtolgay/FIRE/post_processing_fire_outputs/skirt/runs_hden_radius/{galaxy_type}/z{redshift}/{galaxy_name}/{which_run}/gal0_properties_spatialCell_cellprops.dat\"\n",
    "cell_properties = np.loadtxt(cell_properties_file_name)"
   ]
  },
  {
   "cell_type": "code",
   "execution_count": 30,
   "id": "30b81fc6",
   "metadata": {},
   "outputs": [
    {
     "name": "stdout",
     "output_type": "stream",
     "text": [
      "0.1797293\n"
     ]
    }
   ],
   "source": [
    "print(len(cell_properties)/1e7)"
   ]
  },
  {
   "cell_type": "code",
   "execution_count": 22,
   "id": "e80ffcf8",
   "metadata": {},
   "outputs": [],
   "source": [
    "# cell_volume = cell_properties[:,4]\n",
    "\n",
    "# plt.hist(cell_volume, bins=100)\n",
    "# plt.xscale(\"log\")\n",
    "# plt.yscale(\"log\")\n",
    "# plt.show()"
   ]
  },
  {
   "cell_type": "code",
   "execution_count": 20,
   "id": "025ed059",
   "metadata": {},
   "outputs": [
    {
     "data": {
      "text/plain": [
       "9.765625000033278"
      ]
     },
     "execution_count": 20,
     "metadata": {},
     "output_type": "execute_result"
    }
   ],
   "source": [
    "min(cell_volume)**(1/3) / 2"
   ]
  }
 ],
 "metadata": {
  "kernelspec": {
   "display_name": "Python 3 (ipykernel)",
   "language": "python",
   "name": "python3"
  },
  "language_info": {
   "codemirror_mode": {
    "name": "ipython",
    "version": 3
   },
   "file_extension": ".py",
   "mimetype": "text/x-python",
   "name": "python",
   "nbconvert_exporter": "python",
   "pygments_lexer": "ipython3",
   "version": "3.10.2"
  }
 },
 "nbformat": 4,
 "nbformat_minor": 5
}
