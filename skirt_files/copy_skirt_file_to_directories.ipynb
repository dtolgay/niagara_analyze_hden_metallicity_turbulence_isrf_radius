{
 "cells": [
  {
   "cell_type": "code",
   "execution_count": 7,
   "id": "24c0cf90",
   "metadata": {},
   "outputs": [],
   "source": [
    "import shutil"
   ]
  },
  {
   "cell_type": "code",
   "execution_count": 8,
   "id": "548a4800",
   "metadata": {},
   "outputs": [],
   "source": [
    "# Define the source and destination file paths\n",
    "# source_file_path = 'level5_11_tau2_frac6.ski'\n",
    "source_file_path = 'voronoi_1e5_z0_i0.ski'\n",
    "directory_name = \"voronoi_1e5\"\n",
    "\n",
    "redshift = \"0.0\""
   ]
  },
  {
   "cell_type": "markdown",
   "id": "47751346",
   "metadata": {},
   "source": [
    "# zoom_in"
   ]
  },
  {
   "cell_type": "code",
   "execution_count": 9,
   "id": "21db89a6",
   "metadata": {},
   "outputs": [
    {
     "name": "stdout",
     "output_type": "stream",
     "text": [
      "Unable to copy file. [Errno 2] No such file or directory: '/scratch/dongwooc/scratch_rwa/doga/runs_hden_radius/zoom_in/z0.0/m12b_res7100_md/voronoi_1e5/m12b_res7100_md.ski'\n",
      "Unable to copy file. [Errno 2] No such file or directory: '/scratch/dongwooc/scratch_rwa/doga/runs_hden_radius/zoom_in/z0.0/m12c_res7100_md/voronoi_1e5/m12c_res7100_md.ski'\n",
      "Unable to copy file. [Errno 2] No such file or directory: '/scratch/dongwooc/scratch_rwa/doga/runs_hden_radius/zoom_in/z0.0/m12f_res7100_md/voronoi_1e5/m12f_res7100_md.ski'\n",
      "Unable to copy file. [Errno 2] No such file or directory: '/scratch/dongwooc/scratch_rwa/doga/runs_hden_radius/zoom_in/z0.0/m12i_res7100_md/voronoi_1e5/m12i_res7100_md.ski'\n",
      "Unable to copy file. [Errno 2] No such file or directory: '/scratch/dongwooc/scratch_rwa/doga/runs_hden_radius/zoom_in/z0.0/m12m_res7100_md/voronoi_1e5/m12m_res7100_md.ski'\n",
      "Unable to copy file. [Errno 2] No such file or directory: '/scratch/dongwooc/scratch_rwa/doga/runs_hden_radius/zoom_in/z0.0/m12q_res7100_md/voronoi_1e5/m12q_res7100_md.ski'\n",
      "Unable to copy file. [Errno 2] No such file or directory: '/scratch/dongwooc/scratch_rwa/doga/runs_hden_radius/zoom_in/z0.0/m12r_res7100_md/voronoi_1e5/m12r_res7100_md.ski'\n",
      "Unable to copy file. [Errno 2] No such file or directory: '/scratch/dongwooc/scratch_rwa/doga/runs_hden_radius/zoom_in/z0.0/m12w_res7100_md/voronoi_1e5/m12w_res7100_md.ski'\n",
      "Unable to copy file. [Errno 2] No such file or directory: '/scratch/dongwooc/scratch_rwa/doga/runs_hden_radius/zoom_in/z0.0/m11d_r7100/voronoi_1e5/m11d_r7100.ski'\n",
      "Unable to copy file. [Errno 2] No such file or directory: '/scratch/dongwooc/scratch_rwa/doga/runs_hden_radius/zoom_in/z0.0/m11e_r7100/voronoi_1e5/m11e_r7100.ski'\n",
      "Unable to copy file. [Errno 2] No such file or directory: '/scratch/dongwooc/scratch_rwa/doga/runs_hden_radius/zoom_in/z0.0/m11h_r7100/voronoi_1e5/m11h_r7100.ski'\n",
      "Unable to copy file. [Errno 2] No such file or directory: '/scratch/dongwooc/scratch_rwa/doga/runs_hden_radius/zoom_in/z0.0/m11i_r7100/voronoi_1e5/m11i_r7100.ski'\n",
      "Unable to copy file. [Errno 2] No such file or directory: '/scratch/dongwooc/scratch_rwa/doga/runs_hden_radius/zoom_in/z0.0/m11q_r7100/voronoi_1e5/m11q_r7100.ski'\n"
     ]
    }
   ],
   "source": [
    "galaxy_type = \"zoom_in\"\n",
    "\n",
    "galaxy_names = [\n",
    "    \"m12b_res7100_md\", \n",
    "    \"m12c_res7100_md\",\n",
    "    \"m12f_res7100_md\",\n",
    "    \"m12i_res7100_md\",\n",
    "    \"m12m_res7100_md\",\n",
    "    \"m12q_res7100_md\",\n",
    "    \"m12r_res7100_md\",\n",
    "    \"m12w_res7100_md\",\n",
    "    \"m11d_r7100\",\n",
    "    \"m11e_r7100\",\n",
    "    \"m11h_r7100\",\n",
    "    \"m11i_r7100\",\n",
    "    \"m11q_r7100\",    \n",
    "]\n",
    "\n",
    "\n",
    "# galaxy_names = [\n",
    "#     \"m12i_res7100_md\",\n",
    "# ]\n",
    "\n",
    "for galaxy_name in galaxy_names:\n",
    "    try:\n",
    "        base_fdir = \"/scratch/dongwooc/scratch_rwa/doga/runs_hden_radius\"\n",
    "        destination_file_path = f\"{base_fdir}/{galaxy_type}/z{redshift}/{galaxy_name}/{directory_name}/{galaxy_name}.ski\"\n",
    "#         destination_file_path = f\"{base_fdir}/{galaxy_type}/z{redshift}/{galaxy_name}/average_sobolev_smoothingLength/{galaxy_name}.ski\"\n",
    "        \n",
    "        # Copy the file with it's new name\n",
    "        shutil.copy(source_file_path, destination_file_path)\n",
    "\n",
    "        print(f\"{source_file_path} -> {destination_file_path}\")\n",
    "\n",
    "    except IOError as e:\n",
    "        print(f\"Unable to copy file. {e}\")\n",
    "\n",
    "    except PermissionError as e:\n",
    "        print(f\"Permission denied. {e}\")    "
   ]
  },
  {
   "cell_type": "markdown",
   "id": "9d3c5234",
   "metadata": {},
   "source": [
    "# firebox"
   ]
  },
  {
   "cell_type": "code",
   "execution_count": null,
   "id": "d2c8565f",
   "metadata": {},
   "outputs": [
    {
     "name": "stdout",
     "output_type": "stream",
     "text": [
      "voronoi_1e5_z0_i0.ski -> /scratch/dongwooc/scratch_rwa/doga/runs_hden_radius/firebox/z0.0/gal0/voronoi_1e5/gal0.ski\n"
     ]
    }
   ],
   "source": [
    "galaxy_type = \"firebox\"\n",
    "\n",
    "for file_number in range(int(1e3)):\n",
    "# for file_number in [0]:\n",
    "    try:\n",
    "        base_fdir = \"/scratch/dongwooc/scratch_rwa/doga/runs_hden_radius\"\n",
    "#         destination_file_path = f\"{base_fdir}/{galaxy_type}/z{redshift}/gal{file_number}/trial1/gal{file_number}.ski\"        \n",
    "#         destination_file_path = f\"{base_fdir}/{galaxy_type}/z{redshift}/gal{file_number}/average_sobolev_smoothingLength/gal{file_number}.ski\"        \n",
    "        destination_file_path = f\"{base_fdir}/{galaxy_type}/z{redshift}/gal{file_number}/{directory_name}/gal{file_number}.ski\"        \n",
    "        \n",
    "        # Copy the file with it's new name\n",
    "        shutil.copy(source_file_path, destination_file_path)\n",
    "        \n",
    "        print(f\"{source_file_path} -> {destination_file_path}\")\n",
    "        \n",
    "    except IOError as e:\n",
    "        print(f\"Unable to copy file. {e}\")\n",
    "\n",
    "    except PermissionError as e:\n",
    "        print(f\"Permission denied. {e}\")    "
   ]
  },
  {
   "cell_type": "markdown",
   "id": "62ef0a17",
   "metadata": {},
   "source": [
    "# particle_split"
   ]
  },
  {
   "cell_type": "code",
   "execution_count": null,
   "id": "02f91148",
   "metadata": {},
   "outputs": [],
   "source": [
    "galaxy_type = \"particle_split\"\n",
    "\n",
    "galaxy_names = [\n",
    "    \"m12i_r880_md\"\n",
    "]\n",
    "\n",
    "\n",
    "for galaxy_name in galaxy_names:\n",
    "    try:\n",
    "        base_fdir = \"/gpfs/fs0/scratch/r/rbond/dongwooc/scratch_rwa/doga/runs_hden_radius\"\n",
    "        destination_file_path = f\"{base_fdir}/{galaxy_type}/z{redshift}/{galaxy_name}/{directory_name}/{galaxy_name}.ski\"\n",
    "#         destination_file_path = f\"{base_fdir}/{galaxy_type}/z{redshift}/{galaxy_name}/{directory_name}/{galaxy_name}.ski\"\n",
    "        \n",
    "        # Copy the file with it's new name\n",
    "        shutil.copy(source_file_path, destination_file_path)\n",
    "\n",
    "        print(f\"{source_file_path} -> {destination_file_path}\")\n",
    "\n",
    "    except IOError as e:\n",
    "        print(f\"Unable to copy file. {e}\")\n",
    "\n",
    "    except PermissionError as e:\n",
    "        print(f\"Permission denied. {e}\")    "
   ]
  }
 ],
 "metadata": {
  "kernelspec": {
   "display_name": "Python 3",
   "language": "python",
   "name": "python3"
  },
  "language_info": {
   "codemirror_mode": {
    "name": "ipython",
    "version": 3
   },
   "file_extension": ".py",
   "mimetype": "text/x-python",
   "name": "python",
   "nbconvert_exporter": "python",
   "pygments_lexer": "ipython3",
   "version": "3.13.2"
  }
 },
 "nbformat": 4,
 "nbformat_minor": 5
}
