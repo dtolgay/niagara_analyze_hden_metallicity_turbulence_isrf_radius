{
 "cells": [
  {
   "cell_type": "code",
   "execution_count": 1,
   "id": "1749084d",
   "metadata": {},
   "outputs": [],
   "source": [
    "import sys\n",
    "sys.path.append(\"/scratch/m/murray/dtolgay\")\n",
    "from tools import functions_importing_observations as func_observations\n",
    "\n",
    "import pandas as pd \n",
    "import numpy as np \n",
    "\n",
    "import matplotlib.pyplot as plt \n"
   ]
  },
  {
   "cell_type": "code",
   "execution_count": 2,
   "id": "3cd5f678",
   "metadata": {},
   "outputs": [
    {
     "name": "stdout",
     "output_type": "stream",
     "text": [
      "Reading nearestCloudyRun\n",
      "Reading linearNDInterpolator\n",
      "Reading expected\n"
     ]
    }
   ],
   "source": [
    "\n",
    "fdir = f\"/scratch/m/murray/dtolgay/cloudy_runs/z_0/m12f_res7100_md_test\"\n",
    "\n",
    "# Read gas particles\n",
    "\n",
    "lines = [\n",
    "\"L_ly_alpha\",  # [erg s^-1]\n",
    "\"L_h_alpha\", # [erg s^-1]\n",
    "\"L_h_beta\", # [erg s^-1]\n",
    "\"L_co_10\", # [K km s^-1 pc^2] \n",
    "\"L_co_21\", # [K km s^-1 pc^2] \n",
    "\"L_co_32\", # [K km s^-1 pc^2] \n",
    "\"L_co_43\", # [K km s^-1 pc^2] \n",
    "\"L_co_54\", # [K km s^-1 pc^2] \n",
    "\"L_co_65\", # [K km s^-1 pc^2] \n",
    "\"L_co_76\", # [K km s^-1 pc^2] \n",
    "\"L_co_87\", # [K km s^-1 pc^2] \n",
    "\"L_13co\",  # [K km s^-1 pc^2] \n",
    "\"L_c2\", # [erg s^-1]\n",
    "\"L_o3_88\", # [erg s^-1]\n",
    "\"L_o3_5006\", # [erg s^-1]\n",
    "\"L_o3_4958\", # [erg s^-1] \n",
    "]\n",
    "\n",
    "gas_column_names = [\n",
    "\"x\",\n",
    "\"y\",\n",
    "\"z\",\n",
    "\"smoothing length\",\n",
    "\"mass\",\n",
    "\"metallicity\",\n",
    "\"temperature\",\n",
    "\"vx\",\n",
    "\"vy\",\n",
    "\"vz\",\n",
    "\"hydrogen density\",\n",
    "\"radius\",\n",
    "\"sfr\",\n",
    "\"turbulence\",\n",
    "\"density\",\n",
    "\"mu_theoretical\",\n",
    "\"average_sobolev_smoothingLength\",\n",
    "\"index\",\n",
    "\"isrf\",   \n",
    "] + lines\n",
    "\n",
    "\n",
    "\n",
    "print(\"Reading nearestCloudyRun\")\n",
    "nearestCloudyRun = pd.DataFrame(\n",
    "    np.loadtxt(fname=f\"{fdir}/L_line_averageSobolevH_nearestCloudyRun_intensity2Luminosity.txt\"),\n",
    "    columns=gas_column_names\n",
    ")\n",
    "\n",
    "\n",
    "print(\"Reading linearNDInterpolator\")\n",
    "hybrid = pd.DataFrame(\n",
    "    np.loadtxt(fname=f\"{fdir}/L_line_averageSobolevH_linearNDInterpolator_intensity2Luminosity.txt\"),\n",
    "    columns=gas_column_names\n",
    ")\n",
    "\n",
    "\n",
    "print(\"Reading expected\")\n",
    "expected = pd.DataFrame(\n",
    "    np.loadtxt(fname=f\"{fdir}/L_line_averageSobolevH_nearestCloudyRun_intensity2Luminosity_groundTruth.txt\"),\n",
    "    columns=gas_column_names\n",
    ")\n",
    "\n"
   ]
  },
  {
   "cell_type": "code",
   "execution_count": 3,
   "id": "8edb93ae",
   "metadata": {},
   "outputs": [
    {
     "name": "stdout",
     "output_type": "stream",
     "text": [
      "\n",
      " hybrid:  2.999716925588037 \n",
      " nearestNDInterpolator:  6.80558679637021 \n",
      " expected:  1.2083828719190828\n"
     ]
    }
   ],
   "source": [
    "divisisor = 1e6\n",
    "\n",
    "print(\n",
    "    \"\\n hybrid: \", sum(hybrid['L_co_10'])/divisisor, \n",
    "    \"\\n nearestNDInterpolator: \", sum(nearestCloudyRun['L_co_10'])/divisisor,\n",
    "    \"\\n expected: \", sum(expected['L_co_10']/divisisor)\n",
    ")"
   ]
  },
  {
   "cell_type": "code",
   "execution_count": 5,
   "id": "b8c464d4",
   "metadata": {},
   "outputs": [
    {
     "data": {
      "text/plain": [
       "1000"
      ]
     },
     "execution_count": 5,
     "metadata": {},
     "output_type": "execute_result"
    }
   ],
   "source": [
    "columns = [\"x\", \"y\", \"z\"]\n",
    "\n",
    "distance = np.sqrt(expected[\"x\"]**2 + expected[\"y\"]**2 + expected[\"z\"]**2)\n",
    "\n",
    "max(distance)\n",
    "len(distance)"
   ]
  }
 ],
 "metadata": {
  "kernelspec": {
   "display_name": "Python 3",
   "language": "python",
   "name": "python3"
  },
  "language_info": {
   "codemirror_mode": {
    "name": "ipython",
    "version": 3
   },
   "file_extension": ".py",
   "mimetype": "text/x-python",
   "name": "python",
   "nbconvert_exporter": "python",
   "pygments_lexer": "ipython3",
   "version": "3.6.8"
  }
 },
 "nbformat": 4,
 "nbformat_minor": 5
}
