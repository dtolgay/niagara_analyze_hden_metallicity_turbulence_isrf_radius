{
 "cells": [
  {
   "cell_type": "code",
   "execution_count": 5,
   "metadata": {},
   "outputs": [],
   "source": [
    "import os\n",
    "from math import ceil\n",
    "\n",
    "redshift = \"3.0\"\n",
    "directory_name = \"voronoi_1e6\"\n",
    "\n",
    "# file_name = \"L_line_smoothingLength_hybridInterpolator_flux2Luminosity.txt\"\n",
    "# file_name = \"otherProperties_smoothingLength_hybridInterpolator.txt\"\n",
    "# file_name = \"L_line_averageSobolevH_linearNDInterpolator_intensity2Luminosity.txt\"\n",
    "# file_name = \"cloudy_gas_particles.txt\"\n",
    "\n",
    "# file_name = \"L_line_smoothingLength_nearestNDInterpolator_flux2Luminosity.txt\"\n",
    "# file_name = \"otherProperties_smoothingLength_nearestNDInterpolator.txt\"\n",
    "# file_name = \"L_line_averageSobolevH_nearestNDInterpolator_flux2Luminosity.txt\"\n",
    "# file_name = \"otherProperties_averageSobolevH_nearestNDInterpolator.txt\"\n",
    "\n",
    "# file_name = \"L_line_smoothingLength_nearestNDInterpolator_flux2Luminosity_2.txt\"\n",
    "# file_name = \"L_line_averageSobolevH_hybridInterpolator_flux2Luminosity_2.txt\"\n",
    "# file_name = \"otherProperties_averageSobolevH_hybridInterpolator_2.txt\"\n",
    "\n",
    "file_name = \"L_line_smoothingLength_hybridInterpolator_flux2Luminosity.txt\"\n",
    "# file_name = \"otherProperties_smoothingLength_hybridInterpolator.txt\"\n"
   ]
  },
  {
   "cell_type": "code",
   "execution_count": 6,
   "metadata": {
    "scrolled": true
   },
   "outputs": [
    {
     "name": "stdout",
     "output_type": "stream",
     "text": [
      "['gal572', 'gal573', 'gal574', 'gal575', 'gal576', 'gal577', 'gal578', 'gal579', 'gal580', 'gal581', 'gal582', 'gal583', 'gal584', 'gal585', 'gal586', 'gal587', 'gal588', 'gal589', 'gal590', 'gal591', 'gal592', 'gal593', 'gal594', 'gal595', 'gal596', 'gal597', 'gal598', 'gal599', 'gal600', 'gal601', 'gal602', 'gal603', 'gal604', 'gal605', 'gal606', 'gal607', 'gal608', 'gal609', 'gal610', 'gal611', 'gal612', 'gal613', 'gal614', 'gal615', 'gal616', 'gal617', 'gal618', 'gal619', 'gal620', 'gal621', 'gal622', 'gal623', 'gal624', 'gal625', 'gal626', 'gal627', 'gal628', 'gal629', 'gal630', 'gal631', 'gal632', 'gal633', 'gal634', 'gal635', 'gal636', 'gal637', 'gal638', 'gal639', 'gal640', 'gal641', 'gal642', 'gal643', 'gal644', 'gal645', 'gal646', 'gal647', 'gal648', 'gal649', 'gal650', 'gal651', 'gal652', 'gal653', 'gal654', 'gal655', 'gal656', 'gal657', 'gal658', 'gal659', 'gal660', 'gal661', 'gal662', 'gal663', 'gal664', 'gal665', 'gal666', 'gal667', 'gal668', 'gal669', 'gal670', 'gal671', 'gal672', 'gal673', 'gal674', 'gal675', 'gal676', 'gal677', 'gal678', 'gal679', 'gal680', 'gal681', 'gal682', 'gal683', 'gal684', 'gal685', 'gal686', 'gal687', 'gal688', 'gal689', 'gal690', 'gal691', 'gal692', 'gal693', 'gal694', 'gal695', 'gal696', 'gal697', 'gal698', 'gal699', 'gal700', 'gal701', 'gal702', 'gal703', 'gal704', 'gal705', 'gal706', 'gal707', 'gal708', 'gal709', 'gal710', 'gal711', 'gal712', 'gal713', 'gal714', 'gal715', 'gal716', 'gal717', 'gal718', 'gal719', 'gal720', 'gal721', 'gal722', 'gal723', 'gal724', 'gal725', 'gal726', 'gal727', 'gal728', 'gal729', 'gal730', 'gal731', 'gal732', 'gal733', 'gal734', 'gal735', 'gal736', 'gal737', 'gal738', 'gal739', 'gal740', 'gal741', 'gal742', 'gal743', 'gal744', 'gal745', 'gal746', 'gal747', 'gal748', 'gal749', 'gal750', 'gal751', 'gal752', 'gal753', 'gal754', 'gal755', 'gal756', 'gal757', 'gal758', 'gal759', 'gal760', 'gal761', 'gal762', 'gal763', 'gal764', 'gal765', 'gal766', 'gal767', 'gal768', 'gal769', 'gal770', 'gal771', 'gal772', 'gal773', 'gal774', 'gal775', 'gal776', 'gal777', 'gal778', 'gal779', 'gal780', 'gal781', 'gal782', 'gal783', 'gal784', 'gal785', 'gal786', 'gal787', 'gal788', 'gal789', 'gal790', 'gal791', 'gal792', 'gal793', 'gal794', 'gal795', 'gal796', 'gal797', 'gal798', 'gal799', 'gal800', 'gal801', 'gal802', 'gal803', 'gal804', 'gal805', 'gal806', 'gal807', 'gal808', 'gal809', 'gal810', 'gal811', 'gal812', 'gal813', 'gal814', 'gal815', 'gal816', 'gal817', 'gal818', 'gal819', 'gal820', 'gal821', 'gal822', 'gal823', 'gal824', 'gal825', 'gal826', 'gal827', 'gal828', 'gal829', 'gal830', 'gal831', 'gal832', 'gal833', 'gal834', 'gal835', 'gal836', 'gal837', 'gal838', 'gal839', 'gal840', 'gal841', 'gal842', 'gal843', 'gal844', 'gal845', 'gal846', 'gal847', 'gal848', 'gal849', 'gal850', 'gal851', 'gal852', 'gal853', 'gal854', 'gal855', 'gal856', 'gal857', 'gal858', 'gal859', 'gal860', 'gal861', 'gal862', 'gal863', 'gal864', 'gal865', 'gal866', 'gal867', 'gal868', 'gal869', 'gal870', 'gal871', 'gal872', 'gal873', 'gal874', 'gal875', 'gal876', 'gal877', 'gal878', 'gal879', 'gal880', 'gal881', 'gal882', 'gal883', 'gal884', 'gal885', 'gal886', 'gal887', 'gal888', 'gal889', 'gal890', 'gal891', 'gal892', 'gal893', 'gal894', 'gal895', 'gal896', 'gal897', 'gal898', 'gal899', 'gal900', 'gal901', 'gal902', 'gal903', 'gal904', 'gal905', 'gal906', 'gal907', 'gal908', 'gal909', 'gal910', 'gal911', 'gal912', 'gal913', 'gal914', 'gal915', 'gal916', 'gal917', 'gal918', 'gal919', 'gal920', 'gal921', 'gal922', 'gal923', 'gal924', 'gal925', 'gal926', 'gal927', 'gal928', 'gal929', 'gal930', 'gal931', 'gal932', 'gal933', 'gal934', 'gal935', 'gal936', 'gal937', 'gal938', 'gal939', 'gal940', 'gal941', 'gal942', 'gal943', 'gal944', 'gal945', 'gal946', 'gal947', 'gal948', 'gal949', 'gal950', 'gal951', 'gal952', 'gal953', 'gal954', 'gal955', 'gal956', 'gal957', 'gal958', 'gal959', 'gal960', 'gal961', 'gal962', 'gal963', 'gal964', 'gal965', 'gal966', 'gal967', 'gal968', 'gal969', 'gal970', 'gal971', 'gal972', 'gal973', 'gal974', 'gal975', 'gal976', 'gal977', 'gal978', 'gal979', 'gal980', 'gal981', 'gal982', 'gal983', 'gal984', 'gal985', 'gal986', 'gal987', 'gal988', 'gal989', 'gal990', 'gal991', 'gal992', 'gal993', 'gal994', 'gal995', 'gal996', 'gal997', 'gal998', 'gal999']\n",
      "CPU times: user 22.5 ms, sys: 69.4 ms, total: 92 ms\n",
      "Wall time: 833 ms\n"
     ]
    }
   ],
   "source": [
    "%%time\n",
    "\n",
    "# Firebox \n",
    "\n",
    "galaxies_that_do_not_contain_the_file_firebox = []\n",
    "galaxy_type = \"firebox\"\n",
    "\n",
    "for i in range(int(1e3)):\n",
    "# for i in range(50):\n",
    "\n",
    "    galaxy_name = f\"gal{i}\"\n",
    "\n",
    "\n",
    "    base_dir = f\"/scratch/m/murray/dtolgay/post_processing_fire_outputs/skirt/runs_hden_radius/{galaxy_type}/z{redshift}/{galaxy_name}/{directory_name}\"\n",
    "\n",
    "    file_dir = f\"{base_dir}/{file_name}\"\n",
    "\n",
    "    is_file_exists = os.path.isfile(file_dir)\n",
    "\n",
    "    if not is_file_exists:\n",
    "        galaxies_that_do_not_contain_the_file_firebox.append(f\"gal{i}\")\n",
    "\n",
    "        \n",
    "print( galaxies_that_do_not_contain_the_file_firebox)"
   ]
  },
  {
   "cell_type": "code",
   "execution_count": 7,
   "metadata": {},
   "outputs": [
    {
     "name": "stdout",
     "output_type": "stream",
     "text": [
      "[]\n",
      "CPU times: user 1.77 ms, sys: 2.08 ms, total: 3.85 ms\n",
      "Wall time: 16.7 ms\n"
     ]
    }
   ],
   "source": [
    "%%time\n",
    "# zoom-in\n",
    "\n",
    "galaxy_type = \"zoom_in\"\n",
    "galaxies_that_do_not_contain_the_file_zoom_in = []\n",
    "\n",
    "galaxy_names=(\n",
    "    \"m12b_res7100_md\", \n",
    "    \"m12c_res7100_md\",\n",
    "    \"m12f_res7100_md\",\n",
    "    \"m12i_res7100_md\",\n",
    "    \"m12m_res7100_md\",\n",
    "    \"m12q_res7100_md\",\n",
    "    \"m12r_res7100_md\",\n",
    "    \"m12w_res7100_md\",\n",
    "    \"m11d_r7100\",\n",
    "    \"m11e_r7100\",\n",
    "    \"m11h_r7100\",\n",
    "    \"m11i_r7100\",\n",
    "    \"m11q_r7100\",   \n",
    ")\n",
    "\n",
    "for galaxy_name in galaxy_names:\n",
    "    \n",
    "    \n",
    "    base_dir = f\"/scratch/m/murray/dtolgay/post_processing_fire_outputs/skirt/runs_hden_radius/{galaxy_type}/z{redshift}/{galaxy_name}/{directory_name}\"\n",
    "    \n",
    "    file_dir = f\"{base_dir}/{file_name}\"\n",
    "    \n",
    "    is_file_exists = os.path.isfile(file_dir)\n",
    "    \n",
    "    if not is_file_exists:\n",
    "        galaxies_that_do_not_contain_the_file_zoom_in.append(f\"{galaxy_name}\")    \n",
    "    \n",
    "\n",
    "print(galaxies_that_do_not_contain_the_file_zoom_in)"
   ]
  },
  {
   "cell_type": "code",
   "execution_count": 4,
   "metadata": {},
   "outputs": [],
   "source": [
    "# number_of_nodes = 4\n",
    "\n",
    "# number_of_runs_for_each_node = ceil(len(galaxies_that_do_not_contain_the_file)/number_of_nodes)\n",
    "\n",
    "# associated_galaxies_for_nodes = []\n",
    "# for i in range(number_of_nodes):\n",
    "#     associated_galaxies_for_nodes.append(galaxies_that_do_not_contain_the_file[i*number_of_runs_for_each_node:(i+1)*number_of_runs_for_each_node])"
   ]
  }
 ],
 "metadata": {
  "kernelspec": {
   "display_name": "Python 3",
   "language": "python",
   "name": "python3"
  },
  "language_info": {
   "codemirror_mode": {
    "name": "ipython",
    "version": 3
   },
   "file_extension": ".py",
   "mimetype": "text/x-python",
   "name": "python",
   "nbconvert_exporter": "python",
   "pygments_lexer": "ipython3",
   "version": "3.8.5"
  }
 },
 "nbformat": 4,
 "nbformat_minor": 5
}
