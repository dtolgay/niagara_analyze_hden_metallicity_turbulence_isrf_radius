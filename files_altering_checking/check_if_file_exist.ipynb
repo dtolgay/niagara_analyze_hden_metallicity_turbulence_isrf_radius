{
 "cells": [
  {
   "cell_type": "code",
   "execution_count": 9,
   "metadata": {},
   "outputs": [],
   "source": [
    "import os\n",
    "from math import ceil\n",
    "\n",
    "redshift = \"0.0\"\n",
    "directory_name = \"voronoi_1e5\"\n",
    "\n",
    "# file_name = \"L_line_smoothingLength_hybridInterpolator_flux2Luminosity.txt\"\n",
    "# file_name = \"otherProperties_smoothingLength_hybridInterpolator.txt\"\n",
    "# file_name = \"L_line_averageSobolevH_linearNDInterpolator_intensity2Luminosity.txt\"\n",
    "# file_name = \"cloudy_gas_particles.txt\"\n",
    "\n",
    "# file_name = \"L_line_smoothingLength_nearestNDInterpolator_flux2Luminosity.txt\"\n",
    "# file_name = \"otherProperties_smoothingLength_nearestNDInterpolator.txt\"\n",
    "# file_name = \"L_line_averageSobolevH_nearestNDInterpolator_flux2Luminosity.txt\"\n",
    "# file_name = \"otherProperties_averageSobolevH_nearestNDInterpolator.txt\"\n",
    "\n",
    "# file_name = \"L_line_smoothingLength_nearestNDInterpolator_flux2Luminosity_2.txt\"\n",
    "# file_name = \"L_line_averageSobolevH_hybridInterpolator_flux2Luminosity_2.txt\"\n",
    "# file_name = \"otherProperties_averageSobolevH_hybridInterpolator_2.txt\"\n",
    "\n",
    "# file_name = \"L_line_smoothingLength_hybridInterpolator_flux2Luminosity.txt\"\n",
    "# file_name = \"otherProperties_smoothingLength_hybridInterpolator.txt\"\n",
    "\n",
    "# file_name = \"line_emissions_RBFInterpolator_smoothingLength.txt\"\n",
    "# file_name = \"abundance_RBFInterpolator_smoothingLength.txt\"\n",
    "file_name = \"temperature_RBFInterpolator_smoothingLength.txt\""
   ]
  },
  {
   "cell_type": "code",
   "execution_count": null,
   "metadata": {
    "scrolled": true
   },
   "outputs": [],
   "source": [
    "%%time\n",
    "\n",
    "# Firebox \n",
    "\n",
    "galaxies_that_do_not_contain_the_file_firebox = []\n",
    "galaxy_type = \"firebox\"\n",
    "\n",
    "for i in range(int(1e3)):\n",
    "# for i in range(50):\n",
    "\n",
    "    galaxy_name = f\"gal{i}\"\n",
    "\n",
    "\n",
    "    base_dir = f\"/scratch/m/murray/dtolgay/post_processing_fire_outputs/skirt/runs_hden_radius/{galaxy_type}/z{redshift}/{galaxy_name}/{directory_name}\"\n",
    "\n",
    "    file_dir = f\"{base_dir}/{file_name}\"\n",
    "\n",
    "    is_file_exists = os.path.isfile(file_dir)\n",
    "\n",
    "    if not is_file_exists:\n",
    "        galaxies_that_do_not_contain_the_file_firebox.append(f\"gal{i}\")\n",
    "\n",
    "        \n",
    "print( galaxies_that_do_not_contain_the_file_firebox)"
   ]
  },
  {
   "cell_type": "code",
   "execution_count": 10,
   "metadata": {},
   "outputs": [
    {
     "name": "stdout",
     "output_type": "stream",
     "text": [
      "['m12m_res7100_md', 'm12q_res7100_md', 'm12r_res7100_md', 'm12w_res7100_md', 'm11d_r7100', 'm11e_r7100', 'm11h_r7100', 'm11i_r7100', 'm11q_r7100']\n",
      "CPU times: user 2.13 ms, sys: 0 ns, total: 2.13 ms\n",
      "Wall time: 3.48 ms\n"
     ]
    }
   ],
   "source": [
    "%%time\n",
    "# zoom-in\n",
    "\n",
    "galaxy_type = \"zoom_in\"\n",
    "galaxies_that_do_not_contain_the_file_zoom_in = []\n",
    "\n",
    "galaxy_names=(\n",
    "    \"m12b_res7100_md\", \n",
    "    \"m12c_res7100_md\",\n",
    "    \"m12f_res7100_md\",\n",
    "    \"m12i_res7100_md\",\n",
    "    \"m12m_res7100_md\",\n",
    "    \"m12q_res7100_md\",\n",
    "    \"m12r_res7100_md\",\n",
    "    \"m12w_res7100_md\",\n",
    "    \"m11d_r7100\",\n",
    "    \"m11e_r7100\",\n",
    "    \"m11h_r7100\",\n",
    "    \"m11i_r7100\",\n",
    "    \"m11q_r7100\",   \n",
    ")\n",
    "\n",
    "for galaxy_name in galaxy_names:\n",
    "    \n",
    "    \n",
    "    base_dir = f\"/scratch/m/murray/dtolgay/post_processing_fire_outputs/skirt/runs_hden_radius/{galaxy_type}/z{redshift}/{galaxy_name}/{directory_name}\"\n",
    "    \n",
    "    file_dir = f\"{base_dir}/{file_name}\"\n",
    "    \n",
    "    is_file_exists = os.path.isfile(file_dir)\n",
    "    \n",
    "    if not is_file_exists:\n",
    "        galaxies_that_do_not_contain_the_file_zoom_in.append(f\"{galaxy_name}\")    \n",
    "    \n",
    "\n",
    "print(galaxies_that_do_not_contain_the_file_zoom_in)"
   ]
  },
  {
   "cell_type": "code",
   "execution_count": 6,
   "id": "34b8b9af",
   "metadata": {},
   "outputs": [
    {
     "name": "stdout",
     "output_type": "stream",
     "text": [
      "['m12i_r880_md']\n",
      "CPU times: user 1.27 ms, sys: 109 μs, total: 1.38 ms\n",
      "Wall time: 822 μs\n"
     ]
    }
   ],
   "source": [
    "%%time\n",
    "# zoom-in\n",
    "\n",
    "galaxy_type = \"particle_split\"\n",
    "galaxies_that_do_not_contain_the_file_zoom_in = []\n",
    "\n",
    "galaxy_names=(\n",
    "    \"m12i_r880_md\",\n",
    ")\n",
    "\n",
    "for galaxy_name in galaxy_names:\n",
    "    \n",
    "    \n",
    "    base_dir = f\"/scratch/m/murray/dtolgay/post_processing_fire_outputs/skirt/runs_hden_radius/{galaxy_type}/z{redshift}/{galaxy_name}/{directory_name}\"\n",
    "    \n",
    "    file_dir = f\"{base_dir}/{file_name}\"\n",
    "    \n",
    "    is_file_exists = os.path.isfile(file_dir)\n",
    "    \n",
    "    if not is_file_exists:\n",
    "        galaxies_that_do_not_contain_the_file_zoom_in.append(f\"{galaxy_name}\")    \n",
    "    \n",
    "\n",
    "print(galaxies_that_do_not_contain_the_file_zoom_in)"
   ]
  },
  {
   "cell_type": "code",
   "execution_count": null,
   "metadata": {},
   "outputs": [],
   "source": [
    "number_of_nodes = 4\n",
    "\n",
    "number_of_runs_for_each_node = ceil(len(galaxies_that_do_not_contain_the_file_firebox)/number_of_nodes)\n",
    "\n",
    "associated_galaxies_for_nodes = []\n",
    "for i in range(number_of_nodes):\n",
    "    associated_galaxies_for_nodes.append(galaxies_that_do_not_contain_the_file_firebox[i*number_of_runs_for_each_node:(i+1)*number_of_runs_for_each_node])\n",
    "\n",
    "\n",
    "associated_galaxies_for_nodes[3]"
   ]
  }
 ],
 "metadata": {
  "kernelspec": {
   "display_name": "Python 3",
   "language": "python",
   "name": "python3"
  },
  "language_info": {
   "codemirror_mode": {
    "name": "ipython",
    "version": 3
   },
   "file_extension": ".py",
   "mimetype": "text/x-python",
   "name": "python",
   "nbconvert_exporter": "python",
   "pygments_lexer": "ipython3",
   "version": "3.11.5"
  }
 },
 "nbformat": 4,
 "nbformat_minor": 5
}
