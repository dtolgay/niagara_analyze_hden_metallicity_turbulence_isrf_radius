{
 "cells": [
  {
   "cell_type": "code",
   "execution_count": 1,
   "metadata": {},
   "outputs": [],
   "source": [
    "import os\n",
    "from math import ceil\n",
    "\n",
    "redshift = \"3.0\"\n",
    "directory_name = \"voronoi_1e5\"\n",
    "\n",
    "# base_fdir = \"/gpfs/fs0/scratch/r/rbond/dongwooc/scratch_rwa/doga/runs_hden_radius\"\n",
    "base_fdir = \"/scratch/m/murray/dtolgay/post_processing_fire_outputs/skirt/runs_hden_radius\"\n",
    "\n",
    "\n",
    "# file_name = \"isrf_gas.txt\"\n",
    "# file_name = \"cloudy_gas_particles.txt\"\n",
    "# file_name = \"abundance_RBFInterpolator_smoothingLength.txt\"\n",
    "file_name = \"temperature_RBFInterpolator_smoothingLength.txt\"\n",
    "# file_name = \"line_emissions_RBFInterpolator_smoothingLength.txt\"\n",
    "# file_name = \"skirt_gas.txt\""
   ]
  },
  {
   "cell_type": "code",
   "execution_count": 2,
   "metadata": {
    "scrolled": true
   },
   "outputs": [
    {
     "name": "stdout",
     "output_type": "stream",
     "text": [
      "[]\n",
      "CPU times: user 17.6 ms, sys: 33.4 ms, total: 51 ms\n",
      "Wall time: 395 ms\n"
     ]
    }
   ],
   "source": [
    "%%time\n",
    "\n",
    "# Firebox \n",
    "\n",
    "galaxies_that_do_not_contain_the_file_firebox = []\n",
    "galaxy_type = \"firebox\"\n",
    "\n",
    "for i in range(int(1e3)):\n",
    "# for i in range(50):\n",
    "\n",
    "    galaxy_name = f\"gal{i}\"\n",
    "\n",
    "    # file_name = f\"{galaxy_name}.ski\"\n",
    "    # file_name = f\"{galaxy_name}_grid_radiationField_J.dat\"\n",
    "\n",
    "    base_dir = f\"{base_fdir}/{galaxy_type}/z{redshift}/{galaxy_name}/{directory_name}\"\n",
    "\n",
    "    file_dir = f\"{base_dir}/{file_name}\"\n",
    "\n",
    "    is_file_exists = os.path.isfile(file_dir)\n",
    "\n",
    "    if not is_file_exists:\n",
    "        galaxies_that_do_not_contain_the_file_firebox.append(f\"gal{i}\")\n",
    "\n",
    "        \n",
    "print(galaxies_that_do_not_contain_the_file_firebox)"
   ]
  },
  {
   "cell_type": "code",
   "execution_count": 3,
   "metadata": {},
   "outputs": [
    {
     "name": "stdout",
     "output_type": "stream",
     "text": [
      "['m12q_res7100_md']\n",
      "CPU times: user 1.81 ms, sys: 2.19 ms, total: 4 ms\n",
      "Wall time: 15.2 ms\n"
     ]
    }
   ],
   "source": [
    "%%time\n",
    "# zoom-in\n",
    "\n",
    "galaxy_type = \"zoom_in\"\n",
    "galaxies_that_do_not_contain_the_file_zoom_in = []\n",
    "\n",
    "galaxy_names=(\n",
    "    \"m12b_res7100_md\", \n",
    "    \"m12c_res7100_md\",\n",
    "    \"m12f_res7100_md\",\n",
    "    \"m12i_res7100_md\",\n",
    "    \"m12m_res7100_md\",\n",
    "    \"m12q_res7100_md\",\n",
    "    \"m12r_res7100_md\",\n",
    "    \"m12w_res7100_md\",\n",
    "    \"m11d_r7100\",\n",
    "    \"m11e_r7100\",\n",
    "    \"m11h_r7100\",\n",
    "    \"m11i_r7100\",\n",
    "    \"m11q_r7100\",   \n",
    ")\n",
    "\n",
    "for galaxy_name in galaxy_names:\n",
    "    \n",
    "    \n",
    "    base_dir = f\"{base_fdir}/{galaxy_type}/z{redshift}/{galaxy_name}/{directory_name}\"\n",
    "    \n",
    "    file_dir = f\"{base_dir}/{file_name}\"\n",
    "    \n",
    "    is_file_exists = os.path.isfile(file_dir)\n",
    "    \n",
    "    if not is_file_exists:\n",
    "        galaxies_that_do_not_contain_the_file_zoom_in.append(f\"{galaxy_name}\")    \n",
    "    \n",
    "\n",
    "print(galaxies_that_do_not_contain_the_file_zoom_in)"
   ]
  },
  {
   "cell_type": "code",
   "execution_count": null,
   "id": "34b8b9af",
   "metadata": {},
   "outputs": [],
   "source": [
    "%%time\n",
    "# zoom-in\n",
    "\n",
    "galaxy_type = \"particle_split\"\n",
    "galaxies_that_do_not_contain_the_file_zoom_in = []\n",
    "\n",
    "galaxy_names=(\n",
    "    \"m12i_r880_md\",\n",
    ")\n",
    "\n",
    "for galaxy_name in galaxy_names:\n",
    "    \n",
    "    \n",
    "    base_dir = f\"/scratch/m/murray/dtolgay/post_processing_fire_outputs/skirt/runs_hden_radius/{galaxy_type}/z{redshift}/{galaxy_name}/{directory_name}\"\n",
    "    \n",
    "    file_dir = f\"{base_dir}/{file_name}\"\n",
    "    \n",
    "    is_file_exists = os.path.isfile(file_dir)\n",
    "    \n",
    "    if not is_file_exists:\n",
    "        galaxies_that_do_not_contain_the_file_zoom_in.append(f\"{galaxy_name}\")    \n",
    "    \n",
    "\n",
    "print(galaxies_that_do_not_contain_the_file_zoom_in)"
   ]
  },
  {
   "cell_type": "code",
   "execution_count": null,
   "metadata": {},
   "outputs": [],
   "source": [
    "number_of_nodes = 4\n",
    "\n",
    "number_of_runs_for_each_node = ceil(len(galaxies_that_do_not_contain_the_file_firebox)/number_of_nodes)\n",
    "\n",
    "associated_galaxies_for_nodes = []\n",
    "for i in range(number_of_nodes):\n",
    "    associated_galaxies_for_nodes.append(galaxies_that_do_not_contain_the_file_firebox[i*number_of_runs_for_each_node:(i+1)*number_of_runs_for_each_node])\n",
    "\n",
    "\n",
    "associated_galaxies_for_nodes[3]"
   ]
  }
 ],
 "metadata": {
  "kernelspec": {
   "display_name": "Python 3",
   "language": "python",
   "name": "python3"
  },
  "language_info": {
   "codemirror_mode": {
    "name": "ipython",
    "version": 3
   },
   "file_extension": ".py",
   "mimetype": "text/x-python",
   "name": "python",
   "nbconvert_exporter": "python",
   "pygments_lexer": "ipython3",
   "version": "3.11.5"
  }
 },
 "nbformat": 4,
 "nbformat_minor": 5
}
