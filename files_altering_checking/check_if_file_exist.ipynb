{
 "cells": [
  {
   "cell_type": "code",
   "execution_count": 1,
   "metadata": {},
   "outputs": [],
   "source": [
    "import os\n",
    "from math import ceil\n",
    "\n",
    "redshift = \"0.0\"\n",
    "file_name = \"otherProperties_nearestCloudyRun.txt\"\n",
    "directory_name = \"voronoi_1e6\"\n"
   ]
  },
  {
   "cell_type": "code",
   "execution_count": 4,
   "metadata": {
    "scrolled": true
   },
   "outputs": [
    {
     "name": "stdout",
     "output_type": "stream",
     "text": [
      "['gal3', 'gal4', 'gal5', 'gal6', 'gal7', 'gal10', 'gal11', 'gal12', 'gal13', 'gal14', 'gal15', 'gal16', 'gal17', 'gal18', 'gal19', 'gal28', 'gal29', 'gal30', 'gal31', 'gal32', 'gal33', 'gal34', 'gal35', 'gal36', 'gal37', 'gal38', 'gal39', 'gal48', 'gal49', 'gal50', 'gal51', 'gal52', 'gal53', 'gal54', 'gal55', 'gal56', 'gal57', 'gal58', 'gal59', 'gal94', 'gal95', 'gal96', 'gal97', 'gal98', 'gal99', 'gal662', 'gal674', 'gal704', 'gal722', 'gal737', 'gal983']\n",
      "CPU times: user 3.57 ms, sys: 17.1 ms, total: 20.7 ms\n",
      "Wall time: 19.7 ms\n"
     ]
    }
   ],
   "source": [
    "%%time\n",
    "\n",
    "# Firebox \n",
    "\n",
    "galaxies_that_do_not_contain_the_file_firebox = []\n",
    "galaxy_type = \"firebox\"\n",
    "\n",
    "for i in range(int(1e3)):\n",
    "\n",
    "    galaxy_name = f\"gal{i}\"\n",
    "\n",
    "\n",
    "    base_dir = f\"/scratch/m/murray/dtolgay/post_processing_fire_outputs/skirt/runs_hden_radius/{galaxy_type}/z{redshift}/{galaxy_name}/{directory_name}\"\n",
    "\n",
    "    file_dir = f\"{base_dir}/{file_name}\"\n",
    "\n",
    "    is_file_exists = os.path.isfile(file_dir)\n",
    "\n",
    "    if not is_file_exists:\n",
    "        galaxies_that_do_not_contain_the_file_firebox.append(f\"gal{i}\")\n",
    "\n",
    "        \n",
    "print( galaxies_that_do_not_contain_the_file_firebox)"
   ]
  },
  {
   "cell_type": "code",
   "execution_count": 3,
   "metadata": {},
   "outputs": [
    {
     "name": "stdout",
     "output_type": "stream",
     "text": [
      "[]\n",
      "CPU times: user 0 ns, sys: 1.95 ms, total: 1.95 ms\n",
      "Wall time: 2.86 ms\n"
     ]
    }
   ],
   "source": [
    "%%time\n",
    "# zoom-in\n",
    "\n",
    "galaxy_type = \"zoom_in\"\n",
    "galaxies_that_do_not_contain_the_file_zoom_in = []\n",
    "\n",
    "galaxy_names=(\n",
    "    \"m12b_res7100_md\", \n",
    "    \"m12c_res7100_md\",\n",
    "    \"m12f_res7100_md\",\n",
    "    \"m12i_res7100_md\",\n",
    "    \"m12m_res7100_md\",\n",
    "    \"m12q_res7100_md\",\n",
    "    \"m12r_res7100_md\",\n",
    "    \"m12w_res7100_md\",\n",
    "    \"m11d_r7100\",\n",
    "    \"m11e_r7100\",\n",
    "    \"m11h_r7100\",\n",
    "    \"m11i_r7100\",\n",
    "    \"m11q_r7100\",   \n",
    ")\n",
    "\n",
    "for galaxy_name in galaxy_names:\n",
    "    \n",
    "    \n",
    "    base_dir = f\"/scratch/m/murray/dtolgay/post_processing_fire_outputs/skirt/runs_hden_radius/{galaxy_type}/z{redshift}/{galaxy_name}/{directory_name}\"\n",
    "    \n",
    "    file_dir = f\"{base_dir}/{file_name}\"\n",
    "    \n",
    "    is_file_exists = os.path.isfile(file_dir)\n",
    "    \n",
    "    if not is_file_exists:\n",
    "        galaxies_that_do_not_contain_the_file_zoom_in.append(f\"{galaxy_name}\")    \n",
    "    \n",
    "\n",
    "print(galaxies_that_do_not_contain_the_file_zoom_in)"
   ]
  },
  {
   "cell_type": "code",
   "execution_count": null,
   "metadata": {},
   "outputs": [],
   "source": [
    "# number_of_nodes = 4\n",
    "\n",
    "# number_of_runs_for_each_node = ceil(len(galaxies_that_do_not_contain_the_file)/number_of_nodes)\n",
    "\n",
    "# associated_galaxies_for_nodes = []\n",
    "# for i in range(number_of_nodes):\n",
    "#     associated_galaxies_for_nodes.append(galaxies_that_do_not_contain_the_file[i*number_of_runs_for_each_node:(i+1)*number_of_runs_for_each_node])"
   ]
  }
 ],
 "metadata": {
  "kernelspec": {
   "display_name": "Python 3",
   "language": "python",
   "name": "python3"
  },
  "language_info": {
   "codemirror_mode": {
    "name": "ipython",
    "version": 3
   },
   "file_extension": ".py",
   "mimetype": "text/x-python",
   "name": "python",
   "nbconvert_exporter": "python",
   "pygments_lexer": "ipython3",
   "version": "3.8.5"
  }
 },
 "nbformat": 4,
 "nbformat_minor": 5
}
