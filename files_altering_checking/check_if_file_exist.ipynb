{
 "cells": [
  {
   "cell_type": "code",
   "execution_count": 1,
   "metadata": {},
   "outputs": [],
   "source": [
    "import os\n",
    "from math import ceil\n",
    "\n",
    "redshift = \"0.0\"\n",
    "directory_name = \"voronoi_1e5\"\n",
    "\n",
    "# base_fdir = \"/scratch/dtolgay/post_processing_fire_outputs/skirt/runs_hden_radius\"\n",
    "base_fdir = \"/scratch/dongwooc/scratch_rwa/doga/runs_hden_radius\"\n",
    "\n",
    "\n",
    "# file_name = \"isrf_gas.txt\"\n",
    "# file_name = \"cloudy_gas_particles.txt\"\n",
    "# file_name = \"abundance_RBFInterpolator_smoothingLength.txt\"\n",
    "# file_name = \"temperature_RBFInterpolator_smoothingLength.txt\"\n",
    "# file_name = \"line_emissions_RBFInterpolator_smoothingLength.txt\"\n",
    "# file_name = \"skirt_gas.txt\"\n",
    "# file_name = \"other_properties.csv\"\n",
    "# file_name = \"luminosity_from_luminosity_per_mass_by_dividing_to_4pi_RBFInterpolator_N200_smoothingLength.txt\"\n",
    "# file_name = \"abundance_RBFInterpolator_N200_smoothingLength.txt\"\n",
    "file_name = \"isrf_gas.txt\""
   ]
  },
  {
   "cell_type": "code",
   "execution_count": 3,
   "metadata": {
    "scrolled": true
   },
   "outputs": [
    {
     "name": "stdout",
     "output_type": "stream",
     "text": [
      "['gal1', 'gal2', 'gal3', 'gal4', 'gal5', 'gal6', 'gal7', 'gal8', 'gal9', 'gal10', 'gal11', 'gal12', 'gal13', 'gal14', 'gal15', 'gal16', 'gal17', 'gal18', 'gal19', 'gal20', 'gal21', 'gal22', 'gal23', 'gal24', 'gal25', 'gal26', 'gal27', 'gal28', 'gal29', 'gal30', 'gal31', 'gal32', 'gal33', 'gal34', 'gal35', 'gal36', 'gal37', 'gal38', 'gal39', 'gal40', 'gal41', 'gal42', 'gal43', 'gal44', 'gal45', 'gal46', 'gal47', 'gal48', 'gal49', 'gal50', 'gal51', 'gal52', 'gal53', 'gal54', 'gal55', 'gal56', 'gal57', 'gal58', 'gal59', 'gal60', 'gal61', 'gal62', 'gal63', 'gal64', 'gal65', 'gal66', 'gal67', 'gal68', 'gal69', 'gal70', 'gal71', 'gal72', 'gal73', 'gal74', 'gal75', 'gal76', 'gal77', 'gal78', 'gal79', 'gal80', 'gal81', 'gal82', 'gal83', 'gal84', 'gal85', 'gal86', 'gal87', 'gal88', 'gal89', 'gal90', 'gal91', 'gal92', 'gal93', 'gal94', 'gal95', 'gal96', 'gal97', 'gal98', 'gal99', 'gal100', 'gal101', 'gal102', 'gal103', 'gal104', 'gal105', 'gal106', 'gal107', 'gal108', 'gal109', 'gal110', 'gal111', 'gal112', 'gal113', 'gal114', 'gal115', 'gal116', 'gal117', 'gal118', 'gal119', 'gal120', 'gal121', 'gal122', 'gal123', 'gal124', 'gal125', 'gal126', 'gal127', 'gal128', 'gal129', 'gal130', 'gal131', 'gal132', 'gal133', 'gal134', 'gal135', 'gal136', 'gal137', 'gal138', 'gal139', 'gal140', 'gal141', 'gal142', 'gal143', 'gal144', 'gal145', 'gal146', 'gal147', 'gal148', 'gal149', 'gal150', 'gal151', 'gal152', 'gal153', 'gal154', 'gal155', 'gal156', 'gal157', 'gal158', 'gal159', 'gal160', 'gal161', 'gal162', 'gal163', 'gal164', 'gal165', 'gal166', 'gal167', 'gal168', 'gal169', 'gal170', 'gal171', 'gal172', 'gal173', 'gal174', 'gal175', 'gal176', 'gal177', 'gal178', 'gal179', 'gal180', 'gal181', 'gal182', 'gal183', 'gal184', 'gal185', 'gal186', 'gal187', 'gal188', 'gal189', 'gal190', 'gal191', 'gal192', 'gal193', 'gal194', 'gal195', 'gal196', 'gal197', 'gal198', 'gal199', 'gal200', 'gal201', 'gal202', 'gal203', 'gal204', 'gal205', 'gal206', 'gal207', 'gal208', 'gal209', 'gal210', 'gal211', 'gal212', 'gal213', 'gal214', 'gal215', 'gal216', 'gal217', 'gal218', 'gal219', 'gal220', 'gal221', 'gal222', 'gal223', 'gal224', 'gal225', 'gal226', 'gal227', 'gal228', 'gal229', 'gal230', 'gal231', 'gal232', 'gal233', 'gal234', 'gal235', 'gal236', 'gal237', 'gal238', 'gal239', 'gal240', 'gal241', 'gal242', 'gal243', 'gal244', 'gal245', 'gal246', 'gal247', 'gal248', 'gal249', 'gal250', 'gal251', 'gal252', 'gal253', 'gal254', 'gal255', 'gal256', 'gal257', 'gal258', 'gal259', 'gal260', 'gal261', 'gal262', 'gal263', 'gal264', 'gal265', 'gal266', 'gal267', 'gal268', 'gal269', 'gal270', 'gal271', 'gal272', 'gal273', 'gal274', 'gal275', 'gal276', 'gal277', 'gal278', 'gal279', 'gal280', 'gal281', 'gal282', 'gal283', 'gal284', 'gal285', 'gal286', 'gal287', 'gal288', 'gal289', 'gal290', 'gal291', 'gal292', 'gal293', 'gal294', 'gal295', 'gal296', 'gal297', 'gal298', 'gal299', 'gal300', 'gal301', 'gal302', 'gal303', 'gal304', 'gal305', 'gal306', 'gal307', 'gal308', 'gal309', 'gal310', 'gal311', 'gal312', 'gal313', 'gal314', 'gal315', 'gal316', 'gal317', 'gal318', 'gal319', 'gal320', 'gal321', 'gal322', 'gal323', 'gal324', 'gal325', 'gal326', 'gal327', 'gal328', 'gal329', 'gal330', 'gal331', 'gal332', 'gal333', 'gal334', 'gal335', 'gal336', 'gal337', 'gal338', 'gal339', 'gal340', 'gal341', 'gal342', 'gal343', 'gal344', 'gal345', 'gal346', 'gal347', 'gal348', 'gal349', 'gal350', 'gal351', 'gal352', 'gal353', 'gal354', 'gal355', 'gal356', 'gal357', 'gal358', 'gal359', 'gal360', 'gal361', 'gal362', 'gal363', 'gal364', 'gal365', 'gal366', 'gal367', 'gal368', 'gal369', 'gal370', 'gal371', 'gal372', 'gal373', 'gal374', 'gal375', 'gal376', 'gal377', 'gal378', 'gal379', 'gal380', 'gal381', 'gal382', 'gal383', 'gal384', 'gal385', 'gal386', 'gal387', 'gal388', 'gal389', 'gal390', 'gal391', 'gal392', 'gal393', 'gal394', 'gal395', 'gal396', 'gal397', 'gal398', 'gal399', 'gal400', 'gal401', 'gal402', 'gal403', 'gal404', 'gal405', 'gal406', 'gal407', 'gal408', 'gal409', 'gal410', 'gal411', 'gal412', 'gal413', 'gal414', 'gal415', 'gal416', 'gal417', 'gal418', 'gal419', 'gal420', 'gal421', 'gal422', 'gal423', 'gal424', 'gal425', 'gal426', 'gal427', 'gal428', 'gal429', 'gal430', 'gal431', 'gal432', 'gal433', 'gal434', 'gal435', 'gal436', 'gal437', 'gal438', 'gal439', 'gal440', 'gal441', 'gal442', 'gal443', 'gal444', 'gal445', 'gal446', 'gal447', 'gal448', 'gal449', 'gal450', 'gal451', 'gal452', 'gal453', 'gal454', 'gal455', 'gal456', 'gal457', 'gal458', 'gal459', 'gal460', 'gal461', 'gal462', 'gal463', 'gal464', 'gal465', 'gal466', 'gal467', 'gal468', 'gal469', 'gal470', 'gal471', 'gal472', 'gal473', 'gal474', 'gal475', 'gal476', 'gal477', 'gal478', 'gal479', 'gal480', 'gal481', 'gal482', 'gal483', 'gal484', 'gal485', 'gal486', 'gal487', 'gal488', 'gal489', 'gal490', 'gal491', 'gal492', 'gal493', 'gal494', 'gal495', 'gal496', 'gal497', 'gal498', 'gal499', 'gal500', 'gal501', 'gal502', 'gal503', 'gal504', 'gal505', 'gal506', 'gal507', 'gal508', 'gal509', 'gal510', 'gal511', 'gal512', 'gal513', 'gal514', 'gal515', 'gal516', 'gal517', 'gal518', 'gal519', 'gal520', 'gal521', 'gal522', 'gal523', 'gal524', 'gal525', 'gal526', 'gal527', 'gal528', 'gal529', 'gal530', 'gal531', 'gal532', 'gal533', 'gal534', 'gal535', 'gal536', 'gal537', 'gal538', 'gal539', 'gal540', 'gal541', 'gal542', 'gal543', 'gal544', 'gal545', 'gal546', 'gal547', 'gal548', 'gal549', 'gal550', 'gal551', 'gal552', 'gal553', 'gal554', 'gal555', 'gal556', 'gal557', 'gal558', 'gal559', 'gal560', 'gal561', 'gal562', 'gal563', 'gal564', 'gal565', 'gal566', 'gal567', 'gal568', 'gal569', 'gal570', 'gal571', 'gal572', 'gal573', 'gal574', 'gal575', 'gal576', 'gal577', 'gal578', 'gal579', 'gal580', 'gal581', 'gal582', 'gal583', 'gal584', 'gal585', 'gal586', 'gal587', 'gal588', 'gal589', 'gal590', 'gal591', 'gal592', 'gal593', 'gal594', 'gal595', 'gal596', 'gal597', 'gal598', 'gal599', 'gal600', 'gal601', 'gal602', 'gal603', 'gal604', 'gal605', 'gal606', 'gal607', 'gal608', 'gal609', 'gal610', 'gal611', 'gal612', 'gal613', 'gal614', 'gal615', 'gal616', 'gal617', 'gal618', 'gal619', 'gal620', 'gal621', 'gal622', 'gal623', 'gal624', 'gal625', 'gal626', 'gal627', 'gal628', 'gal629', 'gal630', 'gal631', 'gal632', 'gal633', 'gal634', 'gal635', 'gal636', 'gal637', 'gal638', 'gal639', 'gal640', 'gal641', 'gal642', 'gal643', 'gal644', 'gal645', 'gal646', 'gal647', 'gal648', 'gal649', 'gal650', 'gal651', 'gal652', 'gal653', 'gal654', 'gal655', 'gal656', 'gal657', 'gal658', 'gal659', 'gal660', 'gal661', 'gal662', 'gal663', 'gal664', 'gal665', 'gal666', 'gal667', 'gal668', 'gal669', 'gal670', 'gal671', 'gal672', 'gal673', 'gal674', 'gal675', 'gal676', 'gal677', 'gal678', 'gal679', 'gal680', 'gal681', 'gal682', 'gal683', 'gal684', 'gal685', 'gal686', 'gal687', 'gal688', 'gal689', 'gal690', 'gal691', 'gal692', 'gal693', 'gal694', 'gal695', 'gal696', 'gal697', 'gal698', 'gal699', 'gal700', 'gal701', 'gal702', 'gal703', 'gal704', 'gal705', 'gal706', 'gal707', 'gal708', 'gal709', 'gal710', 'gal711', 'gal712', 'gal713', 'gal714', 'gal715', 'gal716', 'gal717', 'gal718', 'gal719', 'gal720', 'gal721', 'gal722', 'gal723', 'gal724', 'gal725', 'gal726', 'gal727', 'gal728', 'gal729', 'gal730', 'gal731', 'gal732', 'gal733', 'gal734', 'gal735', 'gal736', 'gal737', 'gal738', 'gal739', 'gal740', 'gal741', 'gal742', 'gal743', 'gal744', 'gal745', 'gal746', 'gal747', 'gal748', 'gal749', 'gal750', 'gal751', 'gal752', 'gal753', 'gal754', 'gal755', 'gal756', 'gal757', 'gal758', 'gal759', 'gal760', 'gal761', 'gal762', 'gal763', 'gal764', 'gal765', 'gal766', 'gal767', 'gal768', 'gal769', 'gal770', 'gal771', 'gal772', 'gal773', 'gal774', 'gal775', 'gal776', 'gal777', 'gal778', 'gal779', 'gal780', 'gal781', 'gal782', 'gal783', 'gal784', 'gal785', 'gal786', 'gal787', 'gal788', 'gal789', 'gal790', 'gal791', 'gal792', 'gal793', 'gal794', 'gal795', 'gal796', 'gal797', 'gal798', 'gal799', 'gal800', 'gal801', 'gal802', 'gal803', 'gal804', 'gal805', 'gal806', 'gal807', 'gal808', 'gal809', 'gal810', 'gal811', 'gal812', 'gal813', 'gal814', 'gal815', 'gal816', 'gal817', 'gal818', 'gal819', 'gal820', 'gal821', 'gal822', 'gal823', 'gal824', 'gal825', 'gal826', 'gal827', 'gal828', 'gal829', 'gal830', 'gal831', 'gal832', 'gal833', 'gal834', 'gal835', 'gal836', 'gal837', 'gal838', 'gal839', 'gal840', 'gal841', 'gal842', 'gal843', 'gal844', 'gal845', 'gal846', 'gal847', 'gal848', 'gal849', 'gal850', 'gal851', 'gal852', 'gal853', 'gal854', 'gal855', 'gal856', 'gal857', 'gal858', 'gal859', 'gal860', 'gal861', 'gal862', 'gal863', 'gal864', 'gal865', 'gal866', 'gal867', 'gal868', 'gal869', 'gal870', 'gal871', 'gal872', 'gal873', 'gal874', 'gal875', 'gal876', 'gal877', 'gal878', 'gal879', 'gal880', 'gal881', 'gal882', 'gal883', 'gal884', 'gal885', 'gal886', 'gal887', 'gal888', 'gal889', 'gal890', 'gal891', 'gal892', 'gal893', 'gal894', 'gal895', 'gal896', 'gal897', 'gal898', 'gal899', 'gal900', 'gal901', 'gal902', 'gal903', 'gal904', 'gal905', 'gal906', 'gal907', 'gal908', 'gal909', 'gal910', 'gal911', 'gal912', 'gal913', 'gal914', 'gal915', 'gal916', 'gal917', 'gal918', 'gal919', 'gal920', 'gal921', 'gal922', 'gal923', 'gal924', 'gal925', 'gal926', 'gal927', 'gal928', 'gal929', 'gal930', 'gal931', 'gal932', 'gal933', 'gal934', 'gal935', 'gal936', 'gal937', 'gal938', 'gal939', 'gal940', 'gal941', 'gal942', 'gal943', 'gal944', 'gal945', 'gal946', 'gal947', 'gal948', 'gal949', 'gal950', 'gal951', 'gal952', 'gal953', 'gal954', 'gal955', 'gal956', 'gal957', 'gal958', 'gal959', 'gal960', 'gal961', 'gal962', 'gal963', 'gal964', 'gal965', 'gal966', 'gal967', 'gal968', 'gal969', 'gal970', 'gal971', 'gal972', 'gal973', 'gal974', 'gal975', 'gal976', 'gal977', 'gal978', 'gal979', 'gal980', 'gal981', 'gal982', 'gal983', 'gal984', 'gal985', 'gal986', 'gal987', 'gal988', 'gal989', 'gal990', 'gal991', 'gal992', 'gal993', 'gal994', 'gal995', 'gal996', 'gal997', 'gal998', 'gal999']\n",
      "CPU times: user 3.07 ms, sys: 20.7 ms, total: 23.8 ms\n",
      "Wall time: 265 ms\n"
     ]
    }
   ],
   "source": [
    "%%time\n",
    "\n",
    "# Firebox \n",
    "\n",
    "galaxies_that_do_not_contain_the_file_firebox = []\n",
    "galaxy_type = \"firebox\"\n",
    "\n",
    "for i in range(int(1e3)):\n",
    "# for i in range(50):\n",
    "\n",
    "    galaxy_name = f\"gal{i}\"\n",
    "\n",
    "    # # file_name = f\"{galaxy_name}.ski\"\n",
    "    # file_name = f\"{galaxy_name}_grid_radiationField_J.dat\"\n",
    "\n",
    "    base_dir = f\"{base_fdir}/{galaxy_type}/z{redshift}/{galaxy_name}/{directory_name}\"\n",
    "\n",
    "    file_dir = f\"{base_dir}/{file_name}\"\n",
    "\n",
    "    is_file_exists = os.path.isfile(file_dir)\n",
    "\n",
    "    if not is_file_exists:\n",
    "        galaxies_that_do_not_contain_the_file_firebox.append(f\"gal{i}\")\n",
    "\n",
    "        \n",
    "print(galaxies_that_do_not_contain_the_file_firebox)"
   ]
  },
  {
   "cell_type": "code",
   "execution_count": null,
   "metadata": {},
   "outputs": [],
   "source": [
    "%%time\n",
    "# zoom-in\n",
    "\n",
    "galaxy_type = \"zoom_in\"\n",
    "galaxies_that_do_not_contain_the_file_zoom_in = []\n",
    "\n",
    "galaxy_names=(\n",
    "    \"m12b_res7100_md\", \n",
    "    \"m12c_res7100_md\",\n",
    "    \"m12f_res7100_md\",\n",
    "    \"m12i_res7100_md\",\n",
    "    \"m12m_res7100_md\",\n",
    "    \"m12q_res7100_md\",\n",
    "    \"m12r_res7100_md\",\n",
    "    \"m12w_res7100_md\",\n",
    "    \"m11d_r7100\",\n",
    "    \"m11e_r7100\",\n",
    "    \"m11h_r7100\",\n",
    "    \"m11i_r7100\",\n",
    "    \"m11q_r7100\",   \n",
    ")\n",
    "\n",
    "for galaxy_name in galaxy_names:\n",
    "    \n",
    "    \n",
    "    base_dir = f\"{base_fdir}/{galaxy_type}/z{redshift}/{galaxy_name}/{directory_name}\"\n",
    "    \n",
    "    file_dir = f\"{base_dir}/{file_name}\"\n",
    "    \n",
    "    is_file_exists = os.path.isfile(file_dir)\n",
    "    \n",
    "    if not is_file_exists:\n",
    "        galaxies_that_do_not_contain_the_file_zoom_in.append(f\"{galaxy_name}\")    \n",
    "    \n",
    "\n",
    "print(galaxies_that_do_not_contain_the_file_zoom_in)"
   ]
  },
  {
   "cell_type": "code",
   "execution_count": null,
   "id": "34b8b9af",
   "metadata": {},
   "outputs": [],
   "source": [
    "%%time\n",
    "# zoom-in\n",
    "\n",
    "galaxy_type = \"particle_split\"\n",
    "galaxies_that_do_not_contain_the_file_zoom_in = []\n",
    "\n",
    "galaxy_names=(\n",
    "    \"m12i_r880_md\",\n",
    ")\n",
    "\n",
    "for galaxy_name in galaxy_names:\n",
    "    \n",
    "    \n",
    "    base_dir = f\"/scratch/dtolgay/post_processing_fire_outputs/skirt/runs_hden_radius/{galaxy_type}/z{redshift}/{galaxy_name}/{directory_name}\"\n",
    "    \n",
    "    file_dir = f\"{base_dir}/{file_name}\"\n",
    "    \n",
    "    is_file_exists = os.path.isfile(file_dir)\n",
    "    \n",
    "    if not is_file_exists:\n",
    "        galaxies_that_do_not_contain_the_file_zoom_in.append(f\"{galaxy_name}\")    \n",
    "    \n",
    "\n",
    "print(galaxies_that_do_not_contain_the_file_zoom_in)"
   ]
  }
 ],
 "metadata": {
  "kernelspec": {
   "display_name": "tri-jup",
   "language": "python",
   "name": "python3"
  },
  "language_info": {
   "codemirror_mode": {
    "name": "ipython",
    "version": 3
   },
   "file_extension": ".py",
   "mimetype": "text/x-python",
   "name": "python",
   "nbconvert_exporter": "python",
   "pygments_lexer": "ipython3",
   "version": "3.13.2"
  }
 },
 "nbformat": 4,
 "nbformat_minor": 5
}
