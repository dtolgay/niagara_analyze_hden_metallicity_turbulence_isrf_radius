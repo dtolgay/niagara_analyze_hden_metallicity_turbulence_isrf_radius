{
 "cells": [
  {
   "cell_type": "code",
   "execution_count": 1,
   "id": "990f9f30",
   "metadata": {},
   "outputs": [],
   "source": [
    "import sys\n",
    "sys.path.append(\"/scratch/m/murray/dtolgay\")\n",
    "\n",
    "from tools import constants\n",
    "\n",
    "import numpy as np \n",
    "import pandas as pd \n",
    "\n",
    "import matplotlib.pyplot as plt \n",
    "plt.style.use(\"seaborn-poster\")"
   ]
  },
  {
   "cell_type": "code",
   "execution_count": 2,
   "id": "ebd56ca6",
   "metadata": {},
   "outputs": [],
   "source": [
    "def return_summed_log10(data):\n",
    "    return np.log10(sum(data))"
   ]
  },
  {
   "cell_type": "code",
   "execution_count": 3,
   "id": "277aa3c2",
   "metadata": {},
   "outputs": [],
   "source": [
    "base_file_dir = \"/home/m/murray/dtolgay/scratch/post_processing_fire_outputs/skirt/runs_hden_radius\"\n",
    "galaxy_name = \"gal10\"\n",
    "galaxy_type = \"firebox\"\n",
    "redshift = \"3.0\"\n",
    "directory_name = \"voronoi_1e6\"\n",
    "\n",
    "fdir = f\"{base_file_dir}/{galaxy_type}/z{redshift}/{galaxy_name}/{directory_name}/L_line_averageSobolevSmoothing_cloudyRun2_usingIline.txt\"\n",
    "\n",
    "\n",
    "columns = [\n",
    "    'x',  # (pc)\n",
    "    'y',  # (pc)\n",
    "    'z',  # (pc)\n",
    "    'smoothing_length',  # (pc)\n",
    "    'mass',  # (Msolar)\n",
    "    'metallicity',  # (Zsolar)\n",
    "    'temperature',  # (K)\n",
    "    'vx',  # (km/s)\n",
    "    'vy',  # (km/s)\n",
    "    'vz',  # (km/s)\n",
    "    'hden',  # (cm^-3)\n",
    "    'radius',  # (pc)\n",
    "    'sfr',  # (Msolar/yr)\n",
    "    'turbulence',  # (km/s)\n",
    "    'density',  # (gr/cm^-3)\n",
    "    'mu_theoretical',  # (1)\n",
    "    'average_sobolev_smoothingLength',  # (pc)\n",
    "    'index',  # [1]\n",
    "    'isrf',  # [G0]\n",
    "    'L_ly_alpha',  # [erg s^-1]\n",
    "    'L_h_alpha',  # [erg s^-1]\n",
    "    'L_h_beta',  # [erg s^-1]\n",
    "    'L_co_10',  # [K km s^-1 pc^2]\n",
    "    'L_co_21',  # [K km s^-1 pc^2]\n",
    "    'L_co_32',  # [K km s^-1 pc^2]\n",
    "    'L_co_43',  # [K km s^-1 pc^2]\n",
    "    'L_co_54',  # [K km s^-1 pc^2]\n",
    "    'L_co_65',  # [K km s^-1 pc^2]\n",
    "    'L_co_76',  # [K km s^-1 pc^2]\n",
    "    'L_co_87',  # [K km s^-1 pc^2]\n",
    "    'L_13co',  # [K km s^-1 pc^2]\n",
    "    'L_c2',  # [erg s^-1]\n",
    "    'L_o3_88',  # [erg s^-1]\n",
    "    'L_o3_5006',  # [erg s^-1]\n",
    "    'L_o3_4958',  # [erg s^-1]\n",
    "    'log_column_density_cloudy'  # [log(Msolar pc^-2)]\n",
    "]\n",
    "\n",
    "\n",
    "data = pd.DataFrame(\n",
    "    np.loadtxt(fdir),\n",
    "    columns=columns\n",
    ")"
   ]
  },
  {
   "cell_type": "code",
   "execution_count": 4,
   "id": "43eb8d3d",
   "metadata": {},
   "outputs": [
    {
     "name": "stdout",
     "output_type": "stream",
     "text": [
      "cloudy: 10.19343679731657\n",
      "fire: 10.125761046392695\n"
     ]
    }
   ],
   "source": [
    "# Density calculated using mu and hden\n",
    "\n",
    "density = data['hden'] * (data['mu_theoretical'] * constants.proton_mass * 1e2) # gr / cm^2 \n",
    "difference = data['density'] - density\n",
    "\n",
    "# plt.hist(difference, 10)\n",
    "# plt.show()\n",
    "\n",
    "\n",
    "# Mass calculated using log_column_density_cloudy\n",
    "area = data['mass'] * constants.M_sun2gr / (data['average_sobolev_smoothingLength'] * constants.pc2cm * data['density']) * constants.cm2pc**2 # pc^2\n",
    "mass = 10**data['log_column_density_cloudy'] * area\n",
    "\n",
    "\n",
    "print(f'cloudy: {np.log10(sum(mass))}', )\n",
    "print(f'fire: {np.log10(sum(data[\"mass\"]))}')"
   ]
  },
  {
   "cell_type": "code",
   "execution_count": null,
   "id": "d3799eca",
   "metadata": {},
   "outputs": [],
   "source": []
  }
 ],
 "metadata": {
  "kernelspec": {
   "display_name": "Python 3",
   "language": "python",
   "name": "python3"
  },
  "language_info": {
   "codemirror_mode": {
    "name": "ipython",
    "version": 3
   },
   "file_extension": ".py",
   "mimetype": "text/x-python",
   "name": "python",
   "nbconvert_exporter": "python",
   "pygments_lexer": "ipython3",
   "version": "3.6.8"
  }
 },
 "nbformat": 4,
 "nbformat_minor": 5
}
