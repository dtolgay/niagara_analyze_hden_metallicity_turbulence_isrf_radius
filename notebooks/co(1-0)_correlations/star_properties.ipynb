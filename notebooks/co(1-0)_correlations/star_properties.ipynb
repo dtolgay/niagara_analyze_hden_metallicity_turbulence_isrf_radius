{
 "cells": [
  {
   "cell_type": "code",
   "execution_count": 1,
   "metadata": {},
   "outputs": [
    {
     "ename": "ModuleNotFoundError",
     "evalue": "No module named 'astropy'",
     "output_type": "error",
     "traceback": [
      "\u001b[0;31m---------------------------------------------------------------------------\u001b[0m",
      "\u001b[0;31mModuleNotFoundError\u001b[0m                       Traceback (most recent call last)",
      "Cell \u001b[0;32mIn[1], line 4\u001b[0m\n\u001b[1;32m      2\u001b[0m sys\u001b[38;5;241m.\u001b[39mpath\u001b[38;5;241m.\u001b[39mappend(\u001b[38;5;124m\"\u001b[39m\u001b[38;5;124m/scratch/m/murray/dtolgay/\u001b[39m\u001b[38;5;124m\"\u001b[39m)\n\u001b[1;32m      3\u001b[0m \u001b[38;5;28;01mfrom\u001b[39;00m\u001b[38;5;250m \u001b[39m\u001b[38;5;21;01mtools\u001b[39;00m\u001b[38;5;250m \u001b[39m\u001b[38;5;28;01mimport\u001b[39;00m functions_readfiles \u001b[38;5;28;01mas\u001b[39;00m readfiles\n\u001b[0;32m----> 4\u001b[0m \u001b[38;5;28;01mfrom\u001b[39;00m\u001b[38;5;250m \u001b[39m\u001b[38;5;21;01mtools\u001b[39;00m\u001b[38;5;250m \u001b[39m\u001b[38;5;28;01mimport\u001b[39;00m functions_importing_observations \u001b[38;5;28;01mas\u001b[39;00m observations\n\u001b[1;32m      6\u001b[0m \u001b[38;5;28;01mimport\u001b[39;00m\u001b[38;5;250m \u001b[39m\u001b[38;5;21;01mnumpy\u001b[39;00m\u001b[38;5;250m \u001b[39m\u001b[38;5;28;01mas\u001b[39;00m\u001b[38;5;250m \u001b[39m\u001b[38;5;21;01mnp\u001b[39;00m \n\u001b[1;32m      7\u001b[0m \u001b[38;5;28;01mimport\u001b[39;00m\u001b[38;5;250m \u001b[39m\u001b[38;5;21;01mpandas\u001b[39;00m\u001b[38;5;250m \u001b[39m\u001b[38;5;28;01mas\u001b[39;00m\u001b[38;5;250m \u001b[39m\u001b[38;5;21;01mpd\u001b[39;00m \n",
      "File \u001b[0;32m/scratch/m/murray/dtolgay/tools/functions_importing_observations.py:2\u001b[0m\n\u001b[1;32m      1\u001b[0m \u001b[38;5;66;03m# Import modules \u001b[39;00m\n\u001b[0;32m----> 2\u001b[0m \u001b[38;5;28;01mfrom\u001b[39;00m\u001b[38;5;250m \u001b[39m\u001b[38;5;21;01mastropy\u001b[39;00m\u001b[38;5;21;01m.\u001b[39;00m\u001b[38;5;21;01mio\u001b[39;00m\u001b[38;5;250m \u001b[39m\u001b[38;5;28;01mimport\u001b[39;00m fits\n\u001b[1;32m      3\u001b[0m \u001b[38;5;28;01mfrom\u001b[39;00m\u001b[38;5;250m \u001b[39m\u001b[38;5;21;01mastropy\u001b[39;00m\u001b[38;5;21;01m.\u001b[39;00m\u001b[38;5;21;01mtable\u001b[39;00m\u001b[38;5;250m \u001b[39m\u001b[38;5;28;01mimport\u001b[39;00m Table\n\u001b[1;32m      4\u001b[0m \u001b[38;5;28;01mimport\u001b[39;00m\u001b[38;5;250m \u001b[39m\u001b[38;5;21;01mnumpy\u001b[39;00m\u001b[38;5;250m \u001b[39m\u001b[38;5;28;01mas\u001b[39;00m\u001b[38;5;250m \u001b[39m\u001b[38;5;21;01mnp\u001b[39;00m\n",
      "\u001b[0;31mModuleNotFoundError\u001b[0m: No module named 'astropy'"
     ]
    }
   ],
   "source": [
    "import sys\n",
    "sys.path.append(\"/scratch/m/murray/dtolgay/\")\n",
    "from tools import functions_readfiles as readfiles\n",
    "from tools import functions_importing_observations as observations\n",
    "\n",
    "import numpy as np \n",
    "import pandas as pd \n",
    "\n",
    "import matplotlib.pyplot as plt \n",
    "plt.style.use(\"seaborn-poster\")"
   ]
  },
  {
   "cell_type": "code",
   "execution_count": null,
   "metadata": {},
   "outputs": [],
   "source": [
    "runs = {\n",
    "    \"normal\": {\n",
    "        \"label\": \"unchanged\",\n",
    "        \"data\": pd.DataFrame(),\n",
    "        \"color\": \"tab:red\",\n",
    "        \"directory\": \"voronoi_1e6\",\n",
    "    },\n",
    "    \"mstar_doubled\": {\n",
    "        \"label\": r\"$M_{star}$ $\\times$ $2$\",\n",
    "        \"data\": pd.DataFrame(),\n",
    "        \"color\": \"tab:orange\",\n",
    "        \"directory\": \"mstar_doubled_voronoi_1e6\",\n",
    "    },\n",
    "    \"zstar_doubled\": {\n",
    "        \"label\": r\"$Z_{star}$ $\\times$ $2$\",        \n",
    "        \"data\": pd.DataFrame(),\n",
    "        \"color\": \"tab:green\",\n",
    "        \"directory\": \"zstar_doubled_voronoi_1e6\",        \n",
    "    },    \n",
    "}\n",
    "\n",
    "\n",
    "galaxy_name = \"m12i_res7100_md\"\n",
    "galaxy_type = \"zoom_in\"\n",
    "redshift = \"0.0\"\n",
    "file_name = \"L_line_smoothingLength_hybridInterpolator_flux2Luminosity.txt\"\n",
    "base_dir = \"/home/m/murray/dtolgay/scratch/post_processing_fire_outputs/skirt/runs_hden_radius\"\n",
    "\n",
    "for run in runs.keys():\n",
    "    runs[run][\"data\"] = readfiles.read_interpolated_Lline(\n",
    "        galaxy_name = galaxy_name, \n",
    "        galaxy_type = galaxy_type, \n",
    "        redshift = redshift, \n",
    "        directory_name = runs[run][\"directory\"], \n",
    "        file_name = file_name,\n",
    "        base_dir = base_dir,\n",
    "    )[0] # Returns gas_df and line_names"
   ]
  },
  {
   "cell_type": "markdown",
   "metadata": {},
   "source": [
    "# Import observations "
   ]
  },
  {
   "cell_type": "code",
   "execution_count": null,
   "metadata": {},
   "outputs": [],
   "source": [
    "XCOLDGASS_df, PHIBBS2_df, ALMA_df, Leroy_df = observations.read_CO_observations(base_dir = \"/home/m/murray/dtolgay/Observations\")"
   ]
  },
  {
   "cell_type": "markdown",
   "metadata": {},
   "source": [
    "# Plotting"
   ]
  },
  {
   "cell_type": "code",
   "execution_count": null,
   "metadata": {},
   "outputs": [],
   "source": [
    "XCOLDGASS_df.keys()"
   ]
  },
  {
   "cell_type": "code",
   "execution_count": null,
   "metadata": {},
   "outputs": [],
   "source": [
    "plt.figure(figsize=(12,6))\n",
    "\n",
    "cond_FLAG_1 = (XCOLDGASS_df[\"FLAG_CO\"] == 1).astype(bool)\n",
    "cond_FLAG_2 = (XCOLDGASS_df[\"FLAG_CO\"] == 2).astype(bool)\n",
    "plt.scatter(\n",
    "    XCOLDGASS_df.loc[cond_FLAG_1, 'SFR'], XCOLDGASS_df.loc[cond_FLAG_1, 'Lco'], \n",
    "    facecolors='tab:blue', edgecolors='tab:blue', label=\"Saintonge+17\", s=10,\n",
    ")\n",
    "plt.scatter(\n",
    "    XCOLDGASS_df.loc[cond_FLAG_2, 'SFR'], XCOLDGASS_df.loc[cond_FLAG_2, 'Lco'], \n",
    "    marker=r\"$\\downarrow$\", s=100, facecolors='none', edgecolors='tab:cyan', label=r\"Saintonge+17 3$\\sigma$ upper limit\"\n",
    ")\n",
    "\n",
    "for run in runs.keys():\n",
    "    plt.scatter(\n",
    "        sum(runs[run][\"data\"][\"sfr\"]),\n",
    "        sum(runs[run][\"data\"][\"L_co_10\"]),\n",
    "        label = runs[run][\"label\"],\n",
    "    )\n",
    "    \n",
    "plt.xscale(\"log\")\n",
    "plt.yscale(\"log\")\n",
    "\n",
    "plt.legend()\n",
    "plt.show()"
   ]
  },
  {
   "cell_type": "markdown",
   "metadata": {},
   "source": [
    "# ISRF "
   ]
  },
  {
   "cell_type": "code",
   "execution_count": null,
   "metadata": {},
   "outputs": [],
   "source": [
    "for run_name in "
   ]
  }
 ],
 "metadata": {
  "kernelspec": {
   "display_name": "Python 3",
   "language": "python",
   "name": "python3"
  },
  "language_info": {
   "codemirror_mode": {
    "name": "ipython",
    "version": 3
   },
   "file_extension": ".py",
   "mimetype": "text/x-python",
   "name": "python",
   "nbconvert_exporter": "python",
   "pygments_lexer": "ipython3",
   "version": "3.9.21"
  }
 },
 "nbformat": 4,
 "nbformat_minor": 4
}
