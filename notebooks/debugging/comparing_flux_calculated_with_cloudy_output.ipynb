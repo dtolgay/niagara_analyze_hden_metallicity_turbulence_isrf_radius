{
 "cells": [
  {
   "cell_type": "code",
   "execution_count": 9,
   "metadata": {},
   "outputs": [],
   "source": [
    "import numpy as np\n",
    "import pandas as pd \n",
    "\n",
    "import sys \n",
    "sys.path.append(\"/scratch/m/murray/dtolgay/cloudy_runs/python_files/run_after_cloudy_jobs_finished\")\n",
    "from calculate_cloudy_outputs import get_fdir, get_L_line # type: ignore \n",
    "from cloudy_runs_functions import find_converged_run\n",
    "\n",
    "import matplotlib.pyplot as plt"
   ]
  },
  {
   "cell_type": "markdown",
   "metadata": {},
   "source": [
    "## Determine centers"
   ]
  },
  {
   "cell_type": "code",
   "execution_count": 3,
   "metadata": {},
   "outputs": [
    {
     "name": "stdout",
     "output_type": "stream",
     "text": [
      "hden3.00000_metallicity0.50000_turbulence1.00000_isrf-5.00000_radius4.00000\n"
     ]
    }
   ],
   "source": [
    "center = {\n",
    "    \"log_hden\": 3.0,\n",
    "    \"log_metallicity\": 0.5,\n",
    "    \"log_turbulence\": 1.0,\n",
    "    \"log_isrf\": -5.0,\n",
    "    \"log_radius\": 4.0,\n",
    "}\n",
    "\n",
    "train_data_file_path = \"/scratch/m/murray/dtolgay/cloudy_runs/z_0/cr_1_CO87_CII_H_O3/cr_1_CO87_CII_H_O3_metallicity_above_minus_2\"\n",
    "fdir = get_fdir(center)\n",
    "\n",
    "print(fdir)\n",
    "\n",
    "# Read em_str file \n",
    "path_integrals, _ = get_L_line(center = center, train_data_file_path = train_data_file_path)\n",
    "\n",
    "# Read the .out file \n",
    "path_to_out_file = f\"{train_data_file_path}/{fdir}/{fdir}.out\"\n",
    "lines_of_interest = []\n",
    "target = \"CO                  2600.05m\"\n",
    "with open(path_to_out_file, \"r\") as f:\n",
    "    lines = f.readlines()\n",
    "    # Check a line that contains \"CO                  2600.05m \"\n",
    "    for line in lines:\n",
    "        if target in line and len(line.strip()) > len(target):\n",
    "            lines_of_interest.append(line)\n"
   ]
  },
  {
   "cell_type": "code",
   "execution_count": 4,
   "metadata": {},
   "outputs": [
    {
     "data": {
      "text/plain": [
       "np.float64(-4.670161914625416)"
      ]
     },
     "execution_count": 4,
     "metadata": {},
     "output_type": "execute_result"
    }
   ],
   "source": [
    "np.log10(path_integrals['co10'])"
   ]
  },
  {
   "cell_type": "code",
   "execution_count": 5,
   "metadata": {},
   "outputs": [
    {
     "data": {
      "text/plain": [
       "['CO                  2600.05m   -5.002    1.9434      He 1                9515.00A   -6.791    0.0316      He 1                2628.99A   -7.872    0.0026\\n',\n",
       " 'CO                  2600.05m   -5.011    3.8052      CH2                 93.6365m   -6.788    0.0637      CH                  87.9643m   -8.019    0.0037\\n',\n",
       " 'CO                  2600.05m  4.86e+03  4.86e+03      CO                  1300.05m  1.42e+04  1.42e+04\\n',\n",
       " 'CO                  2600.05m   -4.817    2.9580      N2H+                1072.26m   -6.692    0.0394      He 1                8203.71A   -7.871    0.0026\\n',\n",
       " 'CO                  2600.05m   -4.832 66576.938      CH                  9.18867c   -9.440    1.6428      He 1                4.37272m  -11.966    0.0049\\n',\n",
       " 'CO                  2600.05m  5.22e+03  5.22e+03      CO                  1300.05m  1.50e+04  1.50e+04\\n',\n",
       " 'CO                  2600.05m   -4.911    2.6517      CH2                 93.5578m   -6.766    0.0371      SiS                 8254.30m   -7.946    0.0024\\n',\n",
       " 'CO                  2600.05m   -4.927 53496.918      H3O+                290.612m   -9.440    1.6427      He 1                2.92941m  -11.973    0.0048\\n',\n",
       " 'CO                  2600.05m  4.16e+03  4.16e+03      CO                  1300.05m  1.24e+04  1.24e+04\\n']"
      ]
     },
     "execution_count": 5,
     "metadata": {},
     "output_type": "execute_result"
    }
   ],
   "source": [
    "lines_of_interest "
   ]
  },
  {
   "cell_type": "code",
   "execution_count": 10,
   "metadata": {},
   "outputs": [
    {
     "data": {
      "image/png": "[encoded data removed]",
      "text/plain": [
       "<Figure size 640x480 with 1 Axes>"
      ]
     },
     "metadata": {},
     "output_type": "display_data"
    }
   ],
   "source": [
    "# Read the .em_str file\n",
    "path_to_em_str_file = f\"{train_data_file_path}/{fdir}/{fdir}.em_str\"\n",
    "cloudy_em_str = np.loadtxt(\n",
    "    fname=f\"{train_data_file_path}/{fdir}/{fdir}_em.str\"\n",
    ")\n",
    "cloudy_em_str = find_converged_run(cloudy_em_str)\n",
    "\n",
    "plt.plot(\n",
    "    cloudy_em_str[:, 0],\n",
    "    cloudy_em_str[:, 4],\n",
    "    color=\"blue\",\n",
    ")\n",
    "plt.xlabel('Radius (cm)')\n",
    "plt.ylabel('CO(1-0) Emissivity')\n",
    "\n",
    "plt.xscale('log')\n",
    "plt.yscale('log')\n",
    "\n",
    "plt.show()"
   ]
  }
 ],
 "metadata": {
  "kernelspec": {
   "display_name": ".venv",
   "language": "python",
   "name": "python3"
  },
  "language_info": {
   "codemirror_mode": {
    "name": "ipython",
    "version": 3
   },
   "file_extension": ".py",
   "mimetype": "text/x-python",
   "name": "python",
   "nbconvert_exporter": "python",
   "pygments_lexer": "ipython3",
   "version": "3.11.5"
  }
 },
 "nbformat": 4,
 "nbformat_minor": 2
}
