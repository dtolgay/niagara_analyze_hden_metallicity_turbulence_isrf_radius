{
 "cells": [
  {
   "cell_type": "code",
   "execution_count": 1,
   "metadata": {},
   "outputs": [],
   "source": [
    "import sys \n",
    "sys.path.append(\"/scratch/m/murray/dtolgay\")\n",
    "from tools import functions_readfiles as read_files\n",
    "from tools.functions_importing_observations import read_CO_observations\n",
    "\n",
    "import pandas as pd \n",
    "import numpy as np \n",
    "\n",
    "import matplotlib.pyplot as plt "
   ]
  },
  {
   "cell_type": "code",
   "execution_count": null,
   "metadata": {},
   "outputs": [],
   "source": [
    "#     \"expected\": {\n",
    "#         \"file_path\": f\"{base_fdir}/L_line_smoothingLength_expected_flux2Luminosity.txt\",\n",
    "#         \"data\": pd.DataFrame(),\n",
    "#         \"label\": \"expected\",\n",
    "#     },\n",
    "#         \"hybridNDInterp\": {\n",
    "# #         \"file_path\": f\"{base_fdir}/L_line_smoothingLength_hybridInterpolator_flux2Luminosity.txt\",\n",
    "#         \"file_path\": f\"{base_fdir}/otherProperties_smoothingLength_hybridInterpolator.txt\",\n",
    "#         \"data\": pd.DataFrame(),\n",
    "#         \"label\": \"hybridND\",        \n",
    "    },\n",
    "#     \"nearestNDInterp\": {\n",
    "#         \"file_path\": f\"{base_fdir}/L_line_smoothingLength_nearestNDInterpolator_flux2Luminosity.txt\",\n",
    "#         \"data\": pd.DataFrame(),\n",
    "#         \"label\": \"nearestND\",\n",
    "#     },"
   ]
  },
  {
   "cell_type": "code",
   "execution_count": 4,
   "metadata": {},
   "outputs": [],
   "source": [
    "base_fdir = \"/scratch/m/murray/dtolgay/cloudy_runs/z_0/m12i_res7100_md_test\"\n",
    "\n",
    "runs = {\n",
    "    \"regularGridInterp\": {\n",
    "#         \"file_path\": f\"{base_fdir}/line_emissions_regularGridInterpolator_linear_smoothingLength.txt\",\n",
    "#         \"file_path\": f\"{base_fdir}/abundance_regularGridInterpolator_linear_smoothingLength.txt\",\n",
    "        \"file_path\": f\"{base_fdir}/temperature_regularGridInterpolator_linear_smoothingLength.txt\",\n",
    "        \"data\": pd.DataFrame(),\n",
    "        \"label\": \"regularGridND\",\n",
    "    },      \n",
    "}\n",
    "\n",
    "for run in runs.keys():\n",
    "    \n",
    "#     runs[run][\"data\"], file_specific_columns = read_files.read_interpolated_Lline_usingFilePath(path=runs[run][\"file_path\"], interpolation_type=\"line_emissions\")\n",
    "#     runs[run][\"data\"], file_specific_columns = read_files.read_interpolated_Lline_usingFilePath(path=runs[run][\"file_path\"], interpolation_type=\"abundance\")\n",
    "    runs[run][\"data\"], file_specific_columns = read_files.read_interpolated_Lline_usingFilePath(path=runs[run][\"file_path\"], interpolation_type=\"temperature\")\n"
   ]
  },
  {
   "cell_type": "code",
   "execution_count": 8,
   "metadata": {},
   "outputs": [
    {
     "data": {
      "image/png": "[encoded data removed]",
      "text/plain": [
       "<Figure size 432x288 with 1 Axes>"
      ]
     },
     "metadata": {
      "needs_background": "light"
     },
     "output_type": "display_data"
    },
    {
     "data": {
      "image/png": "[encoded data removed]",
      "text/plain": [
       "<Figure size 432x288 with 1 Axes>"
      ]
     },
     "metadata": {
      "needs_background": "light"
     },
     "output_type": "display_data"
    }
   ],
   "source": [
    "plt.scatter(\n",
    "    runs[\"regularGridInterp\"][\"data\"][\"density\"],\n",
    "    runs[\"regularGridInterp\"][\"data\"][\"T\"],\n",
    ")\n",
    "plt.xscale(\"log\")\n",
    "plt.yscale(\"log\")\n",
    "plt.show()\n",
    "\n",
    "\n",
    "plt.scatter(\n",
    "    runs[\"regularGridInterp\"][\"data\"][\"T\"],\n",
    "    runs[\"regularGridInterp\"][\"data\"][\"Th2\"],\n",
    ")\n",
    "plt.xscale(\"log\")\n",
    "plt.yscale(\"log\")\n"
   ]
  },
  {
   "cell_type": "code",
   "execution_count": 12,
   "metadata": {},
   "outputs": [
    {
     "name": "stdout",
     "output_type": "stream",
     "text": [
      "1.5.2\n"
     ]
    }
   ],
   "source": [
    "# from scipy.interpolate import RBFInterpolator\n",
    "import scipy\n",
    "print(scipy.__version__)"
   ]
  },
  {
   "cell_type": "markdown",
   "metadata": {},
   "source": [
    "# Import observations "
   ]
  },
  {
   "cell_type": "code",
   "execution_count": null,
   "metadata": {},
   "outputs": [],
   "source": [
    "XCOLDGASS_df, PHIBBS2_df, ALMA_df, Leroy_df = read_CO_observations(base_dir=\"/home/m/murray/dtolgay/Observations\")"
   ]
  },
  {
   "cell_type": "markdown",
   "metadata": {},
   "source": [
    "# Compare"
   ]
  },
  {
   "cell_type": "code",
   "execution_count": null,
   "metadata": {},
   "outputs": [],
   "source": [
    "line_name = \"L_co_10\"\n",
    "\n",
    "\n",
    "\n",
    "fig, ax = plt.subplots(figsize=(7, 4), dpi = 200, facecolor = \"white\")\n",
    "\n",
    "# ############ xCOLDGASS\n",
    "\n",
    "# cond_FLAG_1 = (XCOLDGASS_df[\"FLAG_CO\"] == 1).astype(bool)\n",
    "# cond_FLAG_2 = (XCOLDGASS_df[\"FLAG_CO\"] == 2).astype(bool)\n",
    "# ax.scatter(\n",
    "#     XCOLDGASS_df.loc[cond_FLAG_1, 'SFR'], XCOLDGASS_df.loc[cond_FLAG_1, 'Lco'], \n",
    "#     facecolors='none', edgecolors='tab:blue', label=\"Saintonge+17\", s=10,\n",
    "# )\n",
    "# ax.scatter(\n",
    "#     XCOLDGASS_df.loc[cond_FLAG_2, 'SFR'], XCOLDGASS_df.loc[cond_FLAG_2, 'Lco'], \n",
    "#     marker=r\"$\\downarrow$\", s=10, facecolors='none', edgecolors='tab:cyan', label=r\"Saintonge+17 3$\\sigma$ upper limit\"\n",
    "# )\n",
    "\n",
    "\n",
    "for run in runs.keys():\n",
    "    ax.scatter(\n",
    "        sum(runs[run]['data']['sfr']),\n",
    "        sum(runs[run]['data'][line_name]),\n",
    "        label = runs[run]['label'],\n",
    "    )\n",
    "\n",
    "\n",
    "## Figure options\n",
    "axes_number_size = 16\n",
    "\n",
    "plt.yscale(\"log\")\n",
    "plt.xscale(\"log\")\n",
    "\n",
    "# plt.grid(which = \"minor\")\n",
    "\n",
    "plt.xlabel(\"SFR [$M☉/yr$]\")\n",
    "plt.ylabel(fr\"{line_name} [$K$ $km$ $s^{-1}$ $pc^2$]\")\n",
    "\n",
    "ymin = 1e4\n",
    "ymax = 1e10\n",
    "difference_in_log_space = int(np.log10(ymax/ymin))\n",
    "yticks = 10**np.linspace(start = np.log10(ymin), stop = np.log10(ymax), num=difference_in_log_space+1)\n",
    "\n",
    "plt.ylim([ymin, ymax])\n",
    "plt.yticks(yticks)\n",
    "plt.legend()\n",
    "\n",
    "plt.xlim([2e-2, 2e2])\n",
    "plt.xticks([1e-1, 1e0, 1e1])\n",
    "\n",
    "\n",
    "# # Customize major ticks\n",
    "ax.tick_params(axis='both', which='major', labelsize=axes_number_size, length=7, width=2, colors='black', direction = \"in\")\n",
    "ax.tick_params(axis='both', which='minor', labelsize=axes_number_size, length=5, width=1, colors='black', direction = \"in\")\n",
    "\n",
    "plt.show()"
   ]
  },
  {
   "cell_type": "code",
   "execution_count": null,
   "metadata": {},
   "outputs": [],
   "source": [
    "for run in runs.keys():\n",
    "    label = runs[run]['label']\n",
    "    Lco = sum(runs[run]['data']['L_co_10'])\n",
    "    print(f\"{label}: Lco: {Lco:.2e}\")\n"
   ]
  },
  {
   "cell_type": "code",
   "execution_count": null,
   "metadata": {},
   "outputs": [],
   "source": [
    "x = np.linspace(0, max(runs['expected']['data']['L_co_10']), num=int(1e3))\n",
    "y = x\n",
    "\n",
    "for run in runs.keys():\n",
    "    if run != 'expected':\n",
    "        plt.figure()\n",
    "        \n",
    "        plt.scatter(\n",
    "            runs[run]['data']['L_co_10'],\n",
    "            runs['expected']['data']['L_co_10'],            \n",
    "        )\n",
    "        \n",
    "        plt.xlabel(run)\n",
    "        \n",
    "        plt.plot(x,y,c=\"Black\")\n",
    "        plt.xscale(\"log\")\n",
    "        plt.yscale(\"log\")\n",
    "        plt.xlim([1e1, 5e5])\n",
    "        plt.ylim([1e1, 5e5])  \n",
    "        \n",
    "        plt.show()\n",
    "        "
   ]
  },
  {
   "cell_type": "code",
   "execution_count": null,
   "metadata": {},
   "outputs": [],
   "source": [
    "plt.scatter(\n",
    "    runs['regularGridInterp']['data']['L_co_10'],\n",
    "    runs['hybridNDInterp']['data']['L_co_10'],            \n",
    ")\n",
    "\n",
    "plt.plot(x,y,c=\"Black\")\n",
    "plt.xscale(\"log\")\n",
    "plt.yscale(\"log\")\n",
    "plt.xlim([1e1, 5e5])\n",
    "plt.ylim([1e1, 5e5])  \n",
    "\n",
    "plt.show()"
   ]
  }
 ],
 "metadata": {
  "kernelspec": {
   "display_name": "Python 3",
   "language": "python",
   "name": "python3"
  },
  "language_info": {
   "codemirror_mode": {
    "name": "ipython",
    "version": 3
   },
   "file_extension": ".py",
   "mimetype": "text/x-python",
   "name": "python",
   "nbconvert_exporter": "python",
   "pygments_lexer": "ipython3",
   "version": "3.8.5"
  }
 },
 "nbformat": 4,
 "nbformat_minor": 4
}
