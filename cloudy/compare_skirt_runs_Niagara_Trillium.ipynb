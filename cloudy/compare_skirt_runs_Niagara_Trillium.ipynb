{
 "cells": [
  {
   "cell_type": "code",
   "execution_count": 1,
   "metadata": {},
   "outputs": [],
   "source": [
    "import pandas as pd \n",
    "import numpy as np \n",
    "\n",
    "import sys \n",
    "sys.path.append('/scratch/dtolgay/post_processing_fire_outputs/skirt/python_files/analyze_hden_metallicity_turbulence_isrf_radius/get_isrf')\n",
    "from get_isrf_from_skirt_voronoi import find_indices_of_wavelengths, eV_2_micron # type: ignore\n",
    "\n",
    "import matplotlib.pyplot as plt\n",
    "# plt.rcParams.update({'font.size': 16, 'figure.figsize': (8,6), 'figure.dpi': 100})\n",
    "# Change font family \n",
    "# plt.rcParams['font.family'] = 'serif'\n"
   ]
  },
  {
   "cell_type": "code",
   "execution_count": 6,
   "metadata": {},
   "outputs": [],
   "source": [
    "galaxy_name = \"gal0\"\n",
    "galaxy_type = \"firebox\"\n",
    "redshift = \"2.0\"\n",
    "which_FIRE = galaxy_type\n",
    "\n",
    "runs = {\n",
    "    \"niagara\": {\n",
    "        \"directory_name\": \"voronoi_1e5\",\n",
    "        \"color\": \"tab:blue\",\n",
    "    },\n",
    "    \"trillium\": {\n",
    "        \"directory_name\": \"skirt_new\",\n",
    "        \"color\": \"tab:orange\",\n",
    "    }, \n",
    "}"
   ]
  },
  {
   "cell_type": "code",
   "execution_count": 7,
   "metadata": {},
   "outputs": [
    {
     "name": "stdout",
     "output_type": "stream",
     "text": [
      "/scratch/dongwooc/scratch_rwa/doga/runs_hden_radius/firebox/z2.0/gal0/voronoi_1e5/isrf_gas.txt\n",
      "/scratch/dongwooc/scratch_rwa/doga/runs_hden_radius/firebox/z2.0/gal0/skirt_new/isrf_gas.txt\n"
     ]
    }
   ],
   "source": [
    "for key, value in runs.items():\n",
    "    # directory_path = f\"/scratch/dongwooc/scratch_rwa/doga/runs_hden_radius/{which_FIRE}/z{redshift}/{galaxy_name}/{value['directory_name']}\"    \n",
    "    # skirt_galaxy_path_wout_extension = f\"{directory_path}/{galaxy_name}\"\n",
    "    \n",
    "    # wavelengths_filename = skirt_galaxy_path_wout_extension +\"_grid_radiationField_wavelengths.dat\"\n",
    "    # wavelength_indices, wavelengths = find_indices_of_wavelengths(wavelengths_filename, \n",
    "    #                                                                 min_wavelength = eV_2_micron(13.6),\n",
    "    #                                                                 max_wavelength = eV_2_micron(6), \n",
    "    #                                                                 debug = True)    \n",
    "\n",
    "    # Read isrf_gas.txt \n",
    "    \n",
    "    directory_path = f\"/scratch/dongwooc/scratch_rwa/doga/runs_hden_radius/{which_FIRE}/z{redshift}/{galaxy_name}/{value['directory_name']}\"\n",
    "    isrf_gas_filename = f\"{directory_path}/isrf_gas.txt\"\n",
    "    print(isrf_gas_filename)\n",
    "    isrf_gas = np.loadtxt(isrf_gas_filename)\n",
    "    \n",
    "    value['isrf_gas'] = isrf_gas"
   ]
  },
  {
   "cell_type": "code",
   "execution_count": null,
   "metadata": {},
   "outputs": [
    {
     "name": "stderr",
     "output_type": "stream",
     "text": [
      "/tmp/ipykernel_1659469/854985156.py:6: RuntimeWarning: divide by zero encountered in log10\n",
      "  ax.hist(np.log10(value['isrf_gas']), bins=bins, label=key)\n"
     ]
    },
    {
     "data": {
      "image/png": "[encoded data removed]",
      "text/plain": [
       "<Figure size 1200x500 with 1 Axes>"
      ]
     },
     "metadata": {},
     "output_type": "display_data"
    }
   ],
   "source": [
    "fig, axs = plt.subplots(1, 1, figsize=(12, 5), constrained_layout=True)\n",
    "\n",
    "for key, value in runs.items():\n",
    "    bins = np.linspace(-6, 2, 100)\n",
    "    ax = axs\n",
    "    ax.hist(np.log10(value['isrf_gas']), bins=bins, label=key, color=value['color'], alpha=0.5)\n",
    "    ax.set_xlabel(r'$\\log_{10}(G)$')\n",
    "    ax.set_ylabel('Number of Particles')\n",
    "\n",
    "\n",
    "ax.legend()\n",
    "plt.show()"
   ]
  },
  {
   "cell_type": "code",
   "execution_count": 5,
   "metadata": {},
   "outputs": [],
   "source": [
    "# ############### Reading files\n",
    "# # Define the name of the galaxy and gas particles files.\n",
    "\n",
    "# # directory_path = f\"/mnt/raid-cita/dtolgay/FIRE/post_processing_fire_outputs/skirt/runs_hden_radius/{which_FIRE}/z{redshift}/{galaxy_name}/trial1\"   \n",
    "# if redshift in [\"2.0\", \"3.0\"]: \n",
    "#     directory_path = f\"/gpfs/fs0/scratch/r/rbond/dongwooc/scratch_rwa/doga/runs_hden_radius/{which_FIRE}/z{redshift}/{galaxy_name}/{directory_name}\"    \n",
    "# else: \n",
    "#     sys.exit(\"Code only works for z=2.0. Implement other redshifts.\")\n",
    "\n",
    "# skirt_galaxy_path_wout_extension = f\"{directory_path}/{galaxy_name}\"\n",
    "\n",
    "# print(f\"directory_path: {directory_path}\")\n",
    "\n",
    "\n",
    "# ### Check if file exits. If it exists do not runs the code: \n",
    "# if os.path.isfile(f\"{directory_path}/isrf_gas.txt\"):\n",
    "#     print(\"File exits. Returning nothing!\")\n",
    "#     return 0\n",
    "# else:\n",
    "#     print(f\"{directory_path}/isrf_gas.txt doesn't exitst. Continuing...\")\n",
    "\n",
    "\n",
    "\n",
    "# #### Get the wavelengths \n",
    "# wavelengths_filename = skirt_galaxy_path_wout_extension +\"_grid_radiationField_wavelengths.dat\"\n",
    "# print(f\"\\nwavelengths_filename: {wavelengths_filename}\")\n",
    "# wavelength_indices, wavelengths = find_indices_of_wavelengths(wavelengths_filename, \n",
    "#                                                                 min_wavelength = eV_2_micron(13.6),\n",
    "#                                                                 max_wavelength = eV_2_micron(6), \n",
    "#                                                                 debug = True) \n",
    "\n",
    "\n",
    "# #### Read cell properties "
   ]
  }
 ],
 "metadata": {
  "kernelspec": {
   "display_name": "tri-jup",
   "language": "python",
   "name": "python3"
  },
  "language_info": {
   "codemirror_mode": {
    "name": "ipython",
    "version": 3
   },
   "file_extension": ".py",
   "mimetype": "text/x-python",
   "name": "python",
   "nbconvert_exporter": "python",
   "pygments_lexer": "ipython3",
   "version": "3.13.2"
  }
 },
 "nbformat": 4,
 "nbformat_minor": 2
}
